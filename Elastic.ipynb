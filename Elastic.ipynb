{
 "cells": [
  {
   "cell_type": "markdown",
   "id": "79986697",
   "metadata": {},
   "source": [
    "# Isotropic elastic wave equation implementation on a staggered grid\n",
    "\n",
    "Some preamble here"
   ]
  },
  {
   "cell_type": "code",
   "execution_count": 1,
   "id": "495d5cc0",
   "metadata": {},
   "outputs": [],
   "source": [
    "import devito as dv"
   ]
  },
  {
   "cell_type": "code",
   "execution_count": 2,
   "id": "5589e8d2",
   "metadata": {},
   "outputs": [],
   "source": [
    "# Create a 3D grid\n",
    "shape = (51, 51, 51)\n",
    "extent = (500., 500., 500.)  # this is in metres\n",
    "grid = dv.Grid(shape=shape, extent=extent)"
   ]
  },
  {
   "cell_type": "markdown",
   "id": "6157b113",
   "metadata": {},
   "source": [
    "# Vectorial form\n",
    "\n",
    "One of the advantages of Devito is the high level symbolic API. This allows for straight forward generalisation of expressions between 2D and 3D. \n",
    "\n",
    "\n",
    "Leveraging the symbolic algebra capabilities of Devito enables concise, flexible specifications of equations. In this case, it's desirable to represent the isotropic elastic system of equations in the following form:\n",
    "\n",
    "\n",
    "\\begin{cases}\n",
    "&\\frac{dv}{dt} = \\underline{\\nabla} . \\tau \\\\\n",
    "&\\frac{d \\tau}{dt} = \\lambda \\text{diag}(\\underline{\\nabla} . \\underline{v}) + \\mu (\\underline{\\nabla} \\underline{v} + (\\underline{\\nabla} \\underline{v})^T)\n",
    "\\end{cases}\n",
    "\n",
    "\n",
    "where in 3D, $\\underline{v}$ is a vector valued function:\n",
    "\n",
    "$\\underline{v}(t, x, y, z) = (v_x(t, x, y, z), v_y(t, x, y, z), v_z(t, x, y, z))$\n",
    "\n",
    "and the stress $\\tau$ is a symmetric tensor valued function:\n",
    "\n",
    "\n",
    "$\\tau(t, x, y, z) = \\begin{bmatrix}\\tau_{xx}(t, x, y, z) & \\tau_{xy}(t, x, y, z)  & \\tau_{xz}(t, x, y, z) \\\\\\tau_{yx}(t, x, y, z) & \\tau_{yy}(t, x, y, z) & \\tau_{yz}(t, x, y, z)  \\\\\\tau_{zx}(t, x, y, z) & \\tau_{zy}(t, x, y, z) & \\tau_{zz}(t, x, y, z)\\end{bmatrix}$\n",
    "\n",
    "\n",
    "We show in the following how to setup the elastic wave-equation form Devito's high-level tensorial types."
   ]
  },
  {
   "cell_type": "markdown",
   "id": "5ad6bec0",
   "metadata": {},
   "source": [
    "As $\\underline{v}$ is a vector which varies in time, we represent it as a `VectorTimeFunction`."
   ]
  },
  {
   "cell_type": "code",
   "execution_count": 3,
   "id": "ea3d543e",
   "metadata": {},
   "outputs": [
    {
     "data": {
      "text/latex": [
       "$\\displaystyle \\left[\\begin{matrix}v_{x}{\\left(t,x + \\frac{h_{x}}{2},y,z \\right)}\\\\v_{y}{\\left(t,x,y + \\frac{h_{y}}{2},z \\right)}\\\\v_{z}{\\left(t,x,y,z + \\frac{h_{z}}{2} \\right)}\\end{matrix}\\right]$"
      ],
      "text/plain": [
       "Vector(v_x(t, x + h_x/2, y, z), v_y(t, x, y + h_y/2, z), v_z(t, x, y, z + h_z/2))"
      ]
     },
     "execution_count": 3,
     "metadata": {},
     "output_type": "execute_result"
    }
   ],
   "source": [
    "so = 4\n",
    "to = 1\n",
    "\n",
    "v = dv.VectorTimeFunction(name='v', grid=grid, space_order=so, time_order=to)\n",
    "v"
   ]
  },
  {
   "cell_type": "markdown",
   "id": "06eef0f2",
   "metadata": {},
   "source": [
    "We can see that staggering is applied by default.\n",
    "\n",
    "There is also a `TensorTimeFunction` to store $\\tau$:"
   ]
  },
  {
   "cell_type": "code",
   "execution_count": 4,
   "id": "32cbbc9e",
   "metadata": {},
   "outputs": [
    {
     "data": {
      "text/latex": [
       "$\\displaystyle \\left[\\begin{matrix}\\tau_{xx}{\\left(t,x,y,z \\right)} & \\tau_{xy}{\\left(t,x + \\frac{h_{x}}{2},y + \\frac{h_{y}}{2},z \\right)} & \\tau_{xz}{\\left(t,x + \\frac{h_{x}}{2},y,z + \\frac{h_{z}}{2} \\right)}\\\\\\tau_{xy}{\\left(t,x + \\frac{h_{x}}{2},y + \\frac{h_{y}}{2},z \\right)} & \\tau_{yy}{\\left(t,x,y,z \\right)} & \\tau_{yz}{\\left(t,x,y + \\frac{h_{y}}{2},z + \\frac{h_{z}}{2} \\right)}\\\\\\tau_{xz}{\\left(t,x + \\frac{h_{x}}{2},y,z + \\frac{h_{z}}{2} \\right)} & \\tau_{yz}{\\left(t,x,y + \\frac{h_{y}}{2},z + \\frac{h_{z}}{2} \\right)} & \\tau_{zz}{\\left(t,x,y,z \\right)}\\end{matrix}\\right]$"
      ],
      "text/plain": [
       "Matrix([\n",
       "[                tau_xx(t, x, y, z), tau_xy(t, x + h_x/2, y + h_y/2, z), tau_xz(t, x + h_x/2, y, z + h_z/2)],\n",
       "[tau_xy(t, x + h_x/2, y + h_y/2, z),                 tau_yy(t, x, y, z), tau_yz(t, x, y + h_y/2, z + h_z/2)],\n",
       "[tau_xz(t, x + h_x/2, y, z + h_z/2), tau_yz(t, x, y + h_y/2, z + h_z/2),                 tau_zz(t, x, y, z)]])"
      ]
     },
     "execution_count": 4,
     "metadata": {},
     "output_type": "execute_result"
    }
   ],
   "source": [
    "τ = dv.TensorTimeFunction(name='tau', grid=grid, space_order=so, time_order=to)\n",
    "τ"
   ]
  },
  {
   "cell_type": "markdown",
   "id": "3abdbed2",
   "metadata": {},
   "source": [
    "Note that staggering is also applied here by default. Furthermore, this tensor is symmetrical:"
   ]
  },
  {
   "cell_type": "code",
   "execution_count": 5,
   "id": "4cfcf9dd",
   "metadata": {},
   "outputs": [
    {
     "data": {
      "text/plain": [
       "True"
      ]
     },
     "execution_count": 5,
     "metadata": {},
     "output_type": "execute_result"
    }
   ],
   "source": [
    "τ[0, 1] is τ[1, 0]"
   ]
  },
  {
   "cell_type": "markdown",
   "id": "96cabd8a",
   "metadata": {},
   "source": [
    "Let's define our parameters. Whilst these will be constant for now, it is trivial to make them vary in space (as will be shown later). "
   ]
  },
  {
   "cell_type": "code",
   "execution_count": 6,
   "id": "6b8bb46a",
   "metadata": {},
   "outputs": [],
   "source": [
    "vs = 1500.  # s-wave velocity in m/s\n",
    "vp = 2500.  # p-wave velocity in m/s\n",
    "ρ = 3000.  # density in kg/m^3\n",
    "\n",
    "b = 1/ρ\n",
    "μ = vs**2/ρ\n",
    "λ = (vp**2/ρ) - 2*μ"
   ]
  },
  {
   "cell_type": "markdown",
   "id": "3048bfcb",
   "metadata": {},
   "source": [
    "With this, we can write our equations in the following way:"
   ]
  },
  {
   "cell_type": "markdown",
   "id": "7a581b4c",
   "metadata": {},
   "source": [
    "Firstly, for the velocity equation: $\\frac{dv}{dt} = \\underline{\\nabla} . \\tau$, we formulate it as follows:"
   ]
  },
  {
   "cell_type": "code",
   "execution_count": 7,
   "id": "a2f54b62",
   "metadata": {},
   "outputs": [
    {
     "data": {
      "text/latex": [
       "$\\displaystyle \\left[\\begin{matrix}- 0.000333333333333333 \\frac{\\partial}{\\partial x} \\tau_{xx}{\\left(t,x,y,z \\right)} - 0.000333333333333333 \\frac{\\partial}{\\partial y} \\tau_{xy}{\\left(t,x + \\frac{h_{x}}{2},y + \\frac{h_{y}}{2},z \\right)} - 0.000333333333333333 \\frac{\\partial}{\\partial z} \\tau_{xz}{\\left(t,x + \\frac{h_{x}}{2},y,z + \\frac{h_{z}}{2} \\right)} + \\frac{\\partial}{\\partial t} v_{x}{\\left(t,x + \\frac{h_{x}}{2},y,z \\right)}\\\\- 0.000333333333333333 \\frac{\\partial}{\\partial x} \\tau_{xy}{\\left(t,x + \\frac{h_{x}}{2},y + \\frac{h_{y}}{2},z \\right)} - 0.000333333333333333 \\frac{\\partial}{\\partial y} \\tau_{yy}{\\left(t,x,y,z \\right)} - 0.000333333333333333 \\frac{\\partial}{\\partial z} \\tau_{yz}{\\left(t,x,y + \\frac{h_{y}}{2},z + \\frac{h_{z}}{2} \\right)} + \\frac{\\partial}{\\partial t} v_{y}{\\left(t,x,y + \\frac{h_{y}}{2},z \\right)}\\\\- 0.000333333333333333 \\frac{\\partial}{\\partial x} \\tau_{xz}{\\left(t,x + \\frac{h_{x}}{2},y,z + \\frac{h_{z}}{2} \\right)} - 0.000333333333333333 \\frac{\\partial}{\\partial y} \\tau_{yz}{\\left(t,x,y + \\frac{h_{y}}{2},z + \\frac{h_{z}}{2} \\right)} - 0.000333333333333333 \\frac{\\partial}{\\partial z} \\tau_{zz}{\\left(t,x,y,z \\right)} + \\frac{\\partial}{\\partial t} v_{z}{\\left(t,x,y,z + \\frac{h_{z}}{2} \\right)}\\end{matrix}\\right]$"
      ],
      "text/plain": [
       "Vector(-0.000333333333333333*Derivative(tau_xx(t, x, y, z), x) - 0.000333333333333333*Derivative(tau_xy(t, x + h_x/2, y + h_y/2, z), y) - 0.000333333333333333*Derivative(tau_xz(t, x + h_x/2, y, z + h_z/2), z) + Derivative(v_x(t, x + h_x/2, y, z), t), -0.000333333333333333*Derivative(tau_xy(t, x + h_x/2, y + h_y/2, z), x) - 0.000333333333333333*Derivative(tau_yy(t, x, y, z), y) - 0.000333333333333333*Derivative(tau_yz(t, x, y + h_y/2, z + h_z/2), z) + Derivative(v_y(t, x, y + h_y/2, z), t), -0.000333333333333333*Derivative(tau_xz(t, x + h_x/2, y, z + h_z/2), x) - 0.000333333333333333*Derivative(tau_yz(t, x, y + h_y/2, z + h_z/2), y) - 0.000333333333333333*Derivative(tau_zz(t, x, y, z), z) + Derivative(v_z(t, x, y, z + h_z/2), t))"
      ]
     },
     "execution_count": 7,
     "metadata": {},
     "output_type": "execute_result"
    }
   ],
   "source": [
    "pde_v = v.dt - b * dv.div(τ)\n",
    "pde_v"
   ]
  },
  {
   "cell_type": "markdown",
   "id": "bb10e286",
   "metadata": {},
   "source": [
    "And for the stress equation: $\\frac{d \\tau}{dt} = \\lambda \\text{diag}(\\underline{\\nabla} . \\underline{v}) + \\mu (\\underline{\\nabla} \\underline{v} + (\\underline{\\nabla} \\underline{v})^T)$:"
   ]
  },
  {
   "cell_type": "code",
   "execution_count": 8,
   "id": "0e4ff6c3",
   "metadata": {},
   "outputs": [],
   "source": [
    "pde_tau = τ.dt - λ * dv.diag(dv.div(v.forward)) - μ * (dv.grad(v.forward) + dv.grad(v.forward).T)\n",
    "# pde_tau  # uncomment to print (may go off of page)\n"
   ]
  },
  {
   "cell_type": "markdown",
   "id": "ca0f1b87",
   "metadata": {},
   "source": []
  },
  {
   "cell_type": "code",
   "execution_count": 9,
   "id": "de52f539",
   "metadata": {},
   "outputs": [],
   "source": [
    "# Time update \n",
    "u_v = dv.Eq(v.forward, dv.solve(pde_v, v.forward))\n",
    "u_t = dv.Eq(τ.forward,  dv.solve(pde_tau, τ.forward))"
   ]
  },
  {
   "cell_type": "markdown",
   "id": "b35d42de",
   "metadata": {},
   "source": [
    "We will need to create a source to inject into this field. For this we will import a `RickerSource` from the examples. Note that this is a thin wrapper around `SparseTimeFunction` with a prefilled time series."
   ]
  },
  {
   "cell_type": "code",
   "execution_count": 10,
   "id": "a58c267b",
   "metadata": {},
   "outputs": [],
   "source": [
    "from examples.seismic import TimeAxis, RickerSource\n",
    "\n",
    "t0, tn = 0., 400.\n",
    "dt = 0.2*min(grid.spacing)/vp  # Courant number is 0.2\n",
    "time_range = TimeAxis(start=t0, stop=tn, step=dt)\n",
    "\n",
    "src = RickerSource(name='src', grid=grid, f0=0.010, time_range=time_range)\n",
    "src.coordinates.data[:] = 250.\n",
    "\n",
    "# The source injection term\n",
    "src_xx = src.inject(field=τ.forward[0, 0], expr=dt*src)\n",
    "src_yy = src.inject(field=τ.forward[1, 1], expr=dt*src)\n",
    "src_zz = src.inject(field=τ.forward[2, 2], expr=dt*src)"
   ]
  },
  {
   "cell_type": "markdown",
   "id": "03459f09",
   "metadata": {},
   "source": [
    "Now we create a Devito `Operator`. Note the order of arguments supplied to the operator - this corresponds to the order of these updates within the time loop."
   ]
  },
  {
   "cell_type": "code",
   "execution_count": null,
   "id": "c53aee69",
   "metadata": {},
   "outputs": [],
   "source": [
    "op = dv.Operator([u_v, u_t] + src_xx + src_yy + src_zz)\n",
    "op(dt=dt)"
   ]
  },
  {
   "cell_type": "markdown",
   "id": "acd67419",
   "metadata": {},
   "source": [
    "With this, the wavefield can be rendered to show its 3D structure. We will choose the x normal stress field for this visualisation."
   ]
  },
  {
   "cell_type": "code",
   "execution_count": null,
   "id": "f56440b9",
   "metadata": {},
   "outputs": [],
   "source": [
    "# import numpy as np\n",
    "\n",
    "# try:\n",
    "#     import trame\n",
    "# except ModuleNotFoundError:\n",
    "#     ! pip install trame\n",
    "# try:\n",
    "#     import pyvista as pv\n",
    "# except ModuleNotFoundError:\n",
    "#     ! pip install pyvista\n",
    "#     import pyvista as pv\n",
    "\n",
    "# rendergrid = pv.UniformGrid()\n",
    "# rendergrid.dimensions = np.array(τ[0, 0].data[-1].shape) + 1\n",
    "# rendergrid.origin = (0., 0., 0.)\n",
    "# rendergrid.spacing = grid.spacing\n",
    "# rendergrid.cell_data[\"x normal stress\"] = τ[0, 0].data[-1].flatten(order=\"F\")\n",
    "\n",
    "# sargs = dict(\n",
    "#     title_font_size=10,\n",
    "#     label_font_size=10,\n",
    "#     n_labels=2,\n",
    "#     color='k',\n",
    "#     position_x=0.05,\n",
    "#     position_y=0.05,\n",
    "#     height=0.15,\n",
    "#     width=0.3\n",
    "    \n",
    "# )\n",
    "\n",
    "# vmax = np.amax(τ[0, 0].data[-1])\n",
    "# y_slices = rendergrid.slice_along_axis(n=5, axis=\"y\")\n",
    "# p = pv.Plotter(notebook=True, window_size=(600,400))\n",
    "# p.add_mesh(rendergrid.outline(), color=\"k\")\n",
    "# p.add_mesh(y_slices, cmap='seismic', opacity=0.8, clim=[-vmax, vmax], scalar_bar_args=sargs)\n",
    "# p.set_background('white')\n",
    "# p.show()\n",
    "# # NOTE: you may have to click on the white box below to make the visualisation appear"
   ]
  },
  {
   "cell_type": "markdown",
   "id": "57c9ae6d",
   "metadata": {},
   "source": [
    "In the Devito example notebooks you may have encountered various model and propagator objects used to streamline these notebooks. In practice, we want to make our own versions of these to suit the task at hand. We will outline below one potential strategy to do this for this particular problem.\n",
    "\n",
    "We will begin by creating an `ElasticModel` class to contain information on the grid and various fields. This model class will also contain a damping mask to implement sponge layers, and subdomaining for a free surface if required."
   ]
  },
  {
   "cell_type": "code",
   "execution_count": 1,
   "id": "3bbd0dc8",
   "metadata": {},
   "outputs": [
    {
     "name": "stderr",
     "output_type": "stream",
     "text": [
      "Operator `init_damp` ran in 0.01 s\n"
     ]
    }
   ],
   "source": [
    "import numpy as np\n",
    "import devito as dv\n",
    "import sympy as sp\n",
    "import matplotlib.pyplot as plt\n",
    "\n",
    "\n",
    "# The free surface will require its own subdomain if it is to be used.\n",
    "# A corresponding main domain will be required if this is the case.\n",
    "\n",
    "class FSDomain(dv.SubDomain):\n",
    "    name = 'fsdomain'\n",
    "    \n",
    "    def __init__(self, nbl):\n",
    "        super().__init__()\n",
    "        self._nbl = nbl\n",
    "        \n",
    "    def define(self, dimensions):\n",
    "        return {dimensions[-1]: ('left', self.nbl)}\n",
    "    \n",
    "    @property\n",
    "    def nbl(self):\n",
    "        \"\"\"Number of boundary layers\"\"\"\n",
    "        return self._nbl\n",
    "    \n",
    "    \n",
    "class MainDomain(dv.SubDomain):\n",
    "    name = 'maindomain'\n",
    "    \n",
    "    def __init__(self, nbl):\n",
    "        super().__init__()\n",
    "        self._nbl = nbl\n",
    "        \n",
    "    def define(self, dimensions):\n",
    "        return {dimensions[-1]: ('middle', self.nbl, 0)}\n",
    "    \n",
    "    @property\n",
    "    def nbl(self):\n",
    "        \"\"\"Number of boundary layers\"\"\"\n",
    "        return self._nbl\n",
    "    \n",
    "    \n",
    "class ElasticModel:\n",
    "    \"\"\"\n",
    "    This is a class containing parameters and utilities for\n",
    "    an isotrophic elastic wave model. \n",
    "    \n",
    "    Parameters\n",
    "    ----------\n",
    "    vp : ndarray\n",
    "        p-wave velocity array\n",
    "    vs : ndarray\n",
    "        s-wave velocity array\n",
    "    ρ : ndarray\n",
    "        Density\n",
    "    spacing : tuple\n",
    "        Grid spacing. Default is 10.\n",
    "    origin : tuple\n",
    "        Grid origin. Default is zeros.\n",
    "    nbl : int\n",
    "        Number of boundary layers. Default is 10.\n",
    "    free_surface : bool\n",
    "        Use a free-surface. Default is False.\n",
    "    space_order : int\n",
    "        The order of the spatial discretisation. Default is 2.\n",
    "    \n",
    "    Attributes\n",
    "    ----------\n",
    "    grid : Grid\n",
    "        Model grid\n",
    "    τ : TensorTimeFunction\n",
    "        Stress tensor\n",
    "    v : VectorTimeFunction\n",
    "        Particle velocity \n",
    "    vp : Function\n",
    "        p-wave velocity\n",
    "    vs : Function\n",
    "        s-wave velocity\n",
    "    ρ : Function\n",
    "        Density\n",
    "    damp : Function\n",
    "        Damping mask\n",
    "    \n",
    "    Methods\n",
    "    -------\n",
    "    dt(c)\n",
    "        Get the timestep corresponding with a particular\n",
    "        Courant number.\n",
    "    \"\"\"\n",
    "    def __init__(self, vp, vs, ρ, **kwargs):\n",
    "        # Sanity check for input arrays\n",
    "        # Note that the dimensionality and shape of the model\n",
    "        # will be inferred from these input arrays.\n",
    "        if vp.shape != vs.shape or vp.shape != ρ.shape:\n",
    "            raise ValueError(\"Arrays have mismatched shapes\")\n",
    "            \n",
    "        # Grab information on boundary conditions for grid size\n",
    "        # and subdomain setup.\n",
    "        self._nbl = kwargs.get(\"nbl\", 10)\n",
    "        self._free_surface = kwargs.get(\"free_surface\", False)\n",
    "\n",
    "        # Set up subdomains if required by free surface\n",
    "        if self.free_surface:\n",
    "            fs_domain = FSDomain(self.nbl)\n",
    "            main_domain = MainDomain(self.nbl)\n",
    "            subdomains = [fs_domain, main_domain]\n",
    "        else:\n",
    "            subdomains = []\n",
    "            \n",
    "        # Get various grid parameters\n",
    "        spacing = kwargs.get(\"spacing\", 10.)\n",
    "        origin = kwargs.get(\"origin\", tuple([0.]*len(vp.shape)))\n",
    "        \n",
    "        shape = tuple([2*self.nbl + s for s in vp.shape])\n",
    "        extent = tuple([spacing*sha for sha in shape])\n",
    "        # Set up the grid\n",
    "        self._grid = dv.Grid(shape=shape, extent=extent, origin=origin,\n",
    "                             subdomains=subdomains)\n",
    "        \n",
    "        self._space_order = kwargs.get(\"space_order\", 2)\n",
    "        \n",
    "        # Set up the function symbols and fill their data attributes\n",
    "        # where reqiured\n",
    "        self._initialise_functions()\n",
    "        self._fill_parameters(vp, vs, ρ)\n",
    "        \n",
    "        # Set up the damping field\n",
    "        self._initialise_damping()\n",
    "        \n",
    "    def _initialise_functions(self):\n",
    "        \"\"\"Set up functions found in the equations\"\"\"\n",
    "        self._τ = dv.TensorTimeFunction(name='tau', grid=self.grid,\n",
    "                                        space_order=self.space_order,\n",
    "                                        time_order=1)\n",
    "        \n",
    "        self._v = dv.VectorTimeFunction(name='v', grid=self.grid,\n",
    "                                        space_order=self.space_order,\n",
    "                                        time_order=1)\n",
    "        \n",
    "        self._vp = dv.Function(name='vp', grid=self.grid,\n",
    "                               space_order=self.space_order)\n",
    "        \n",
    "        self._vs = dv.Function(name='vs', grid=self.grid,\n",
    "                               space_order=self.space_order)\n",
    "\n",
    "        self._ρ = dv.Function(name='rho', grid=self.grid,\n",
    "                              space_order=self.space_order)\n",
    "        \n",
    "    def _fill_parameters(self, vp, vs, rho):\n",
    "        \"\"\"Fill the data of vp, vs, and rho from the supplied arrays\"\"\"\n",
    "        # Need to pad the models out into the sponge region\n",
    "        self.vp.data[:] = np.pad(vp, self.nbl, mode='edge')\n",
    "        self.vs.data[:] = np.pad(vs, self.nbl, mode='edge')\n",
    "        self.ρ.data[:] = np.pad(rho, self.nbl, mode='edge')\n",
    "        \n",
    "    def _initialise_damping(self):\n",
    "        \"\"\"\n",
    "        Set up the damping mask. Note that this will be a simple sponge\n",
    "        mask with linear tapers for this case.\n",
    "        \"\"\"\n",
    "        self._damp = dv.Function(name='damp', grid=self.grid,\n",
    "                                 space_order=self.space_order)\n",
    "        self.damp.data[:] = 1.\n",
    "        \n",
    "        # This section creates a set of equations which each scale an\n",
    "        # edge of the damping mask by a linear taper. Note that each\n",
    "        # pair of equations within the loop correspond to the left and\n",
    "        # right tapers.\n",
    "        eqs = []\n",
    "        for dim, shape in zip(self.grid.dimensions, self.grid.shape):\n",
    "            eqs.append(dv.Eq(self.damp,\n",
    "                             self.damp*(dv.Min(shape-dim, self.nbl)/self.nbl)))\n",
    "            if dim != self.grid.dimensions[-1] or not self.free_surface:\n",
    "                eqs.append(dv.Eq(self.damp,\n",
    "                                 self.damp*(dv.Min(dim, self.nbl)/self.nbl)))\n",
    "            \n",
    "        op_damp = dv.Operator(eqs, name='init_damp')\n",
    "        op_damp.apply()\n",
    "        \n",
    "    def dt(self, c):\n",
    "        \"\"\"\n",
    "        Return the timestep corresponding with some particular\n",
    "        Courant number.\n",
    "        \"\"\"\n",
    "        return c*np.amin(self.grid.spacing)/np.amax(self.vp.data)\n",
    "        \n",
    "\n",
    "    @property\n",
    "    def nbl(self):\n",
    "        \"\"\"Number of boundary layers\"\"\"\n",
    "        return self._nbl\n",
    "    \n",
    "    @property\n",
    "    def free_surface(self):\n",
    "        \"\"\"Use a free surface\"\"\"\n",
    "        return self._free_surface\n",
    "    \n",
    "    @property\n",
    "    def grid(self):\n",
    "        \"\"\"Finite difference grid \"\"\"\n",
    "        return self._grid \n",
    "    \n",
    "    @property\n",
    "    def space_order(self):\n",
    "        \"\"\"Order of the spatial discretisation\"\"\"\n",
    "        return self._space_order\n",
    "    \n",
    "    @property\n",
    "    def τ(self):\n",
    "        \"\"\"Stress tensor\"\"\"\n",
    "        return self._τ\n",
    "    \n",
    "    @property\n",
    "    def v(self):\n",
    "        \"\"\"Particle Velocity\"\"\"\n",
    "        return self._v\n",
    "\n",
    "    @property\n",
    "    def vp(self):\n",
    "        \"\"\"P-wave velocity\"\"\"\n",
    "        return self._vp\n",
    "\n",
    "    @property\n",
    "    def vs(self):\n",
    "        \"\"\"S-wave velocity\"\"\"\n",
    "        return self._vs\n",
    "    \n",
    "    @property\n",
    "    def ρ(self):\n",
    "        \"\"\"Density\"\"\"\n",
    "        return self._ρ\n",
    "    \n",
    "    @property\n",
    "    def damp(self):\n",
    "        \"\"\"Damping mask\"\"\"\n",
    "        return self._damp\n",
    "    \n",
    "    \n",
    "model = ElasticModel(2500. + 100*np.random.rand(51, 51, 51),\n",
    "                     1500. + 50*np.random.rand(51, 51, 51),\n",
    "                     2000. + 100*np.random.rand(51, 51, 51))"
   ]
  },
  {
   "cell_type": "markdown",
   "id": "ddd31e93",
   "metadata": {},
   "source": [
    "The second class we will need to create will be some `ElasticPropagator` which encapsulates the equations, operator, and any auxilliary functionality such as snapshotting etc."
   ]
  },
  {
   "cell_type": "code",
   "execution_count": 4,
   "id": "62bdd950",
   "metadata": {
    "scrolled": false
   },
   "outputs": [
    {
     "name": "stdout",
     "output_type": "stream",
     "text": [
      "0.0019505500786203458\n",
      "src(time, p_src)\n",
      "0.0019505500786203458\n"
     ]
    },
    {
     "ename": "AttributeError",
     "evalue": "'Data' object has no attribute 'is_Atom'",
     "output_type": "error",
     "traceback": [
      "\u001b[0;31m---------------------------------------------------------------------------\u001b[0m",
      "\u001b[0;31mAttributeError\u001b[0m                            Traceback (most recent call last)",
      "Cell \u001b[0;32mIn [4], line 118\u001b[0m\n\u001b[1;32m    115\u001b[0m src \u001b[38;5;241m=\u001b[39m RickerSource(name\u001b[38;5;241m=\u001b[39m\u001b[38;5;124m'\u001b[39m\u001b[38;5;124msrc\u001b[39m\u001b[38;5;124m'\u001b[39m, grid\u001b[38;5;241m=\u001b[39mmodel\u001b[38;5;241m.\u001b[39mgrid, f0\u001b[38;5;241m=\u001b[39m\u001b[38;5;241m0.010\u001b[39m, time_range\u001b[38;5;241m=\u001b[39mtime_range)\n\u001b[1;32m    116\u001b[0m src\u001b[38;5;241m.\u001b[39mcoordinates\u001b[38;5;241m.\u001b[39mdata[:] \u001b[38;5;241m=\u001b[39m \u001b[38;5;241m250.\u001b[39m\n\u001b[0;32m--> 118\u001b[0m propagator \u001b[38;5;241m=\u001b[39m \u001b[43mElasticPropagator\u001b[49m\u001b[43m(\u001b[49m\u001b[43mmodel\u001b[49m\u001b[43m,\u001b[49m\u001b[43m \u001b[49m\u001b[43msrc\u001b[49m\u001b[38;5;241;43m=\u001b[39;49m\u001b[43msrc\u001b[49m\u001b[43m)\u001b[49m\n\u001b[1;32m    119\u001b[0m propagator\u001b[38;5;241m.\u001b[39mapply(dt\u001b[38;5;241m=\u001b[39mmodel\u001b[38;5;241m.\u001b[39mdt(\u001b[38;5;241m0.5\u001b[39m), time_M\u001b[38;5;241m=\u001b[39m\u001b[38;5;241m10\u001b[39m)\n",
      "Cell \u001b[0;32mIn [4], line 43\u001b[0m, in \u001b[0;36mElasticPropagator.__init__\u001b[0;34m(self, model, **kwargs)\u001b[0m\n\u001b[1;32m     39\u001b[0m src_yy \u001b[38;5;241m=\u001b[39m \u001b[38;5;28mself\u001b[39m\u001b[38;5;241m.\u001b[39msrc\u001b[38;5;241m.\u001b[39minject(field\u001b[38;5;241m=\u001b[39mτ[\u001b[38;5;241m1\u001b[39m, \u001b[38;5;241m1\u001b[39m]\u001b[38;5;241m.\u001b[39mforward,\n\u001b[1;32m     40\u001b[0m                          expr\u001b[38;5;241m=\u001b[39mdt)\n\u001b[1;32m     41\u001b[0m src_zz \u001b[38;5;241m=\u001b[39m \u001b[38;5;28mself\u001b[39m\u001b[38;5;241m.\u001b[39msrc\u001b[38;5;241m.\u001b[39minject(field\u001b[38;5;241m=\u001b[39mτ[\u001b[38;5;241m2\u001b[39m, \u001b[38;5;241m2\u001b[39m]\u001b[38;5;241m.\u001b[39mforward,\n\u001b[1;32m     42\u001b[0m                          expr\u001b[38;5;241m=\u001b[39mdt)\n\u001b[0;32m---> 43\u001b[0m \u001b[38;5;28mself\u001b[39m\u001b[38;5;241m.\u001b[39m_operator \u001b[38;5;241m=\u001b[39m \u001b[43mdv\u001b[49m\u001b[38;5;241;43m.\u001b[39;49m\u001b[43mOperator\u001b[49m\u001b[43m(\u001b[49m\u001b[43msrc_yy\u001b[49m\u001b[43m)\u001b[49m\n",
      "File \u001b[0;32m~/devito/devito/operator/operator.py:157\u001b[0m, in \u001b[0;36mOperator.__new__\u001b[0;34m(cls, expressions, **kwargs)\u001b[0m\n\u001b[1;32m    155\u001b[0m \u001b[38;5;66;03m# Lower to a JIT-compilable object\u001b[39;00m\n\u001b[1;32m    156\u001b[0m \u001b[38;5;28;01mwith\u001b[39;00m timed_region(\u001b[38;5;124m'\u001b[39m\u001b[38;5;124mop-compile\u001b[39m\u001b[38;5;124m'\u001b[39m) \u001b[38;5;28;01mas\u001b[39;00m r:\n\u001b[0;32m--> 157\u001b[0m     op \u001b[38;5;241m=\u001b[39m \u001b[38;5;28;43mcls\u001b[39;49m\u001b[38;5;241;43m.\u001b[39;49m\u001b[43m_build\u001b[49m\u001b[43m(\u001b[49m\u001b[43mexpressions\u001b[49m\u001b[43m,\u001b[49m\u001b[43m \u001b[49m\u001b[38;5;241;43m*\u001b[39;49m\u001b[38;5;241;43m*\u001b[39;49m\u001b[43mkwargs\u001b[49m\u001b[43m)\u001b[49m\n\u001b[1;32m    158\u001b[0m op\u001b[38;5;241m.\u001b[39m_profiler\u001b[38;5;241m.\u001b[39mpy_timers\u001b[38;5;241m.\u001b[39mupdate(r\u001b[38;5;241m.\u001b[39mtimings)\n\u001b[1;32m    160\u001b[0m \u001b[38;5;66;03m# Emit info about how long it took to perform the lowering\u001b[39;00m\n",
      "File \u001b[0;32m~/devito/devito/operator/operator.py:179\u001b[0m, in \u001b[0;36mOperator._build\u001b[0;34m(cls, expressions, **kwargs)\u001b[0m\n\u001b[1;32m    176\u001b[0m profiler \u001b[38;5;241m=\u001b[39m create_profile(\u001b[38;5;124m'\u001b[39m\u001b[38;5;124mtimers\u001b[39m\u001b[38;5;124m'\u001b[39m)\n\u001b[1;32m    178\u001b[0m \u001b[38;5;66;03m# Lower the input expressions into an IET\u001b[39;00m\n\u001b[0;32m--> 179\u001b[0m irs, byproduct \u001b[38;5;241m=\u001b[39m \u001b[38;5;28;43mcls\u001b[39;49m\u001b[38;5;241;43m.\u001b[39;49m\u001b[43m_lower\u001b[49m\u001b[43m(\u001b[49m\u001b[43mexpressions\u001b[49m\u001b[43m,\u001b[49m\u001b[43m \u001b[49m\u001b[43mprofiler\u001b[49m\u001b[38;5;241;43m=\u001b[39;49m\u001b[43mprofiler\u001b[49m\u001b[43m,\u001b[49m\u001b[43m \u001b[49m\u001b[38;5;241;43m*\u001b[39;49m\u001b[38;5;241;43m*\u001b[39;49m\u001b[43mkwargs\u001b[49m\u001b[43m)\u001b[49m\n\u001b[1;32m    181\u001b[0m \u001b[38;5;66;03m# Make it an actual Operator\u001b[39;00m\n\u001b[1;32m    182\u001b[0m op \u001b[38;5;241m=\u001b[39m Callable\u001b[38;5;241m.\u001b[39m\u001b[38;5;21m__new__\u001b[39m(\u001b[38;5;28mcls\u001b[39m, \u001b[38;5;241m*\u001b[39m\u001b[38;5;241m*\u001b[39mirs\u001b[38;5;241m.\u001b[39miet\u001b[38;5;241m.\u001b[39margs)\n",
      "File \u001b[0;32m~/devito/devito/operator/operator.py:249\u001b[0m, in \u001b[0;36mOperator._lower\u001b[0;34m(cls, expressions, **kwargs)\u001b[0m\n\u001b[1;32m    246\u001b[0m kwargs[\u001b[38;5;124m'\u001b[39m\u001b[38;5;124mrcompile\u001b[39m\u001b[38;5;124m'\u001b[39m] \u001b[38;5;241m=\u001b[39m \u001b[38;5;28mcls\u001b[39m\u001b[38;5;241m.\u001b[39m_rcompile_wrapper(\u001b[38;5;241m*\u001b[39m\u001b[38;5;241m*\u001b[39mkwargs)\n\u001b[1;32m    248\u001b[0m \u001b[38;5;66;03m# [Eq] -> [LoweredEq]\u001b[39;00m\n\u001b[0;32m--> 249\u001b[0m expressions \u001b[38;5;241m=\u001b[39m \u001b[38;5;28;43mcls\u001b[39;49m\u001b[38;5;241;43m.\u001b[39;49m\u001b[43m_lower_exprs\u001b[49m\u001b[43m(\u001b[49m\u001b[43mexpressions\u001b[49m\u001b[43m,\u001b[49m\u001b[43m \u001b[49m\u001b[38;5;241;43m*\u001b[39;49m\u001b[38;5;241;43m*\u001b[39;49m\u001b[43mkwargs\u001b[49m\u001b[43m)\u001b[49m\n\u001b[1;32m    251\u001b[0m \u001b[38;5;66;03m# [LoweredEq] -> [Clusters]\u001b[39;00m\n\u001b[1;32m    252\u001b[0m clusters \u001b[38;5;241m=\u001b[39m \u001b[38;5;28mcls\u001b[39m\u001b[38;5;241m.\u001b[39m_lower_clusters(expressions, \u001b[38;5;241m*\u001b[39m\u001b[38;5;241m*\u001b[39mkwargs)\n",
      "File \u001b[0;32m~/devito/devito/tools/timing.py:76\u001b[0m, in \u001b[0;36mtimed_pass.__call__\u001b[0;34m(self, *args, **kwargs)\u001b[0m\n\u001b[1;32m     73\u001b[0m stack\u001b[38;5;241m.\u001b[39mappend(frame)\n\u001b[1;32m     75\u001b[0m tic \u001b[38;5;241m=\u001b[39m time()\n\u001b[0;32m---> 76\u001b[0m retval \u001b[38;5;241m=\u001b[39m \u001b[38;5;28;43mself\u001b[39;49m\u001b[38;5;241;43m.\u001b[39;49m\u001b[43mfunc\u001b[49m\u001b[43m(\u001b[49m\u001b[38;5;241;43m*\u001b[39;49m\u001b[43margs\u001b[49m\u001b[43m,\u001b[49m\u001b[43m \u001b[49m\u001b[38;5;241;43m*\u001b[39;49m\u001b[38;5;241;43m*\u001b[39;49m\u001b[43mkwargs\u001b[49m\u001b[43m)\u001b[49m\n\u001b[1;32m     77\u001b[0m toc \u001b[38;5;241m=\u001b[39m time()\n\u001b[1;32m     79\u001b[0m \u001b[38;5;28;01mfor\u001b[39;00m f \u001b[38;5;129;01min\u001b[39;00m stack:\n",
      "File \u001b[0;32m~/devito/devito/operator/operator.py:310\u001b[0m, in \u001b[0;36mOperator._lower_exprs\u001b[0;34m(cls, expressions, **kwargs)\u001b[0m\n\u001b[1;32m    307\u001b[0m expressions \u001b[38;5;241m=\u001b[39m \u001b[38;5;28mcls\u001b[39m\u001b[38;5;241m.\u001b[39m_specialize_dsl(expressions, \u001b[38;5;241m*\u001b[39m\u001b[38;5;241m*\u001b[39mkwargs)\n\u001b[1;32m    309\u001b[0m \u001b[38;5;66;03m# Lower functional DSL\u001b[39;00m\n\u001b[0;32m--> 310\u001b[0m expressions \u001b[38;5;241m=\u001b[39m flatten([i\u001b[38;5;241m.\u001b[39mevaluate \u001b[38;5;28;01mfor\u001b[39;00m i \u001b[38;5;129;01min\u001b[39;00m expressions])\n\u001b[1;32m    311\u001b[0m expressions \u001b[38;5;241m=\u001b[39m [j \u001b[38;5;28;01mfor\u001b[39;00m i \u001b[38;5;129;01min\u001b[39;00m expressions \u001b[38;5;28;01mfor\u001b[39;00m j \u001b[38;5;129;01min\u001b[39;00m i\u001b[38;5;241m.\u001b[39m_flatten]\n\u001b[1;32m    313\u001b[0m \u001b[38;5;66;03m# A second round of specialization is performed on nevaluated expressions\u001b[39;00m\n",
      "File \u001b[0;32m~/devito/devito/operator/operator.py:310\u001b[0m, in \u001b[0;36m<listcomp>\u001b[0;34m(.0)\u001b[0m\n\u001b[1;32m    307\u001b[0m expressions \u001b[38;5;241m=\u001b[39m \u001b[38;5;28mcls\u001b[39m\u001b[38;5;241m.\u001b[39m_specialize_dsl(expressions, \u001b[38;5;241m*\u001b[39m\u001b[38;5;241m*\u001b[39mkwargs)\n\u001b[1;32m    309\u001b[0m \u001b[38;5;66;03m# Lower functional DSL\u001b[39;00m\n\u001b[0;32m--> 310\u001b[0m expressions \u001b[38;5;241m=\u001b[39m flatten([\u001b[43mi\u001b[49m\u001b[38;5;241;43m.\u001b[39;49m\u001b[43mevaluate\u001b[49m \u001b[38;5;28;01mfor\u001b[39;00m i \u001b[38;5;129;01min\u001b[39;00m expressions])\n\u001b[1;32m    311\u001b[0m expressions \u001b[38;5;241m=\u001b[39m [j \u001b[38;5;28;01mfor\u001b[39;00m i \u001b[38;5;129;01min\u001b[39;00m expressions \u001b[38;5;28;01mfor\u001b[39;00m j \u001b[38;5;129;01min\u001b[39;00m i\u001b[38;5;241m.\u001b[39m_flatten]\n\u001b[1;32m    313\u001b[0m \u001b[38;5;66;03m# A second round of specialization is performed on nevaluated expressions\u001b[39;00m\n",
      "File \u001b[0;32m~/.local/lib/python3.8/site-packages/cached_property.py:36\u001b[0m, in \u001b[0;36mcached_property.__get__\u001b[0;34m(self, obj, cls)\u001b[0m\n\u001b[1;32m     33\u001b[0m \u001b[38;5;28;01mif\u001b[39;00m asyncio \u001b[38;5;129;01mand\u001b[39;00m asyncio\u001b[38;5;241m.\u001b[39miscoroutinefunction(\u001b[38;5;28mself\u001b[39m\u001b[38;5;241m.\u001b[39mfunc):\n\u001b[1;32m     34\u001b[0m     \u001b[38;5;28;01mreturn\u001b[39;00m \u001b[38;5;28mself\u001b[39m\u001b[38;5;241m.\u001b[39m_wrap_in_coroutine(obj)\n\u001b[0;32m---> 36\u001b[0m value \u001b[38;5;241m=\u001b[39m obj\u001b[38;5;241m.\u001b[39m\u001b[38;5;18m__dict__\u001b[39m[\u001b[38;5;28mself\u001b[39m\u001b[38;5;241m.\u001b[39mfunc\u001b[38;5;241m.\u001b[39m\u001b[38;5;18m__name__\u001b[39m] \u001b[38;5;241m=\u001b[39m \u001b[38;5;28;43mself\u001b[39;49m\u001b[38;5;241;43m.\u001b[39;49m\u001b[43mfunc\u001b[49m\u001b[43m(\u001b[49m\u001b[43mobj\u001b[49m\u001b[43m)\u001b[49m\n\u001b[1;32m     37\u001b[0m \u001b[38;5;28;01mreturn\u001b[39;00m value\n",
      "File \u001b[0;32m~/devito/devito/types/lazy.py:63\u001b[0m, in \u001b[0;36mEvaluable.evaluate\u001b[0;34m(self)\u001b[0m\n\u001b[1;32m     58\u001b[0m \u001b[38;5;129m@cached_property\u001b[39m\n\u001b[1;32m     59\u001b[0m \u001b[38;5;28;01mdef\u001b[39;00m \u001b[38;5;21mevaluate\u001b[39m(\u001b[38;5;28mself\u001b[39m):\n\u001b[1;32m     60\u001b[0m     \u001b[38;5;124;03m\"\"\"\u001b[39;00m\n\u001b[1;32m     61\u001b[0m \u001b[38;5;124;03m    Return a new object from the evaluation of ``self``.\u001b[39;00m\n\u001b[1;32m     62\u001b[0m \u001b[38;5;124;03m    \"\"\"\u001b[39;00m\n\u001b[0;32m---> 63\u001b[0m     \u001b[38;5;28;01mreturn\u001b[39;00m \u001b[38;5;28;43mself\u001b[39;49m\u001b[38;5;241;43m.\u001b[39;49m\u001b[43m_evaluate\u001b[49m\u001b[43m(\u001b[49m\u001b[43m)\u001b[49m\n",
      "File \u001b[0;32m~/devito/devito/operations/interpolators.py:41\u001b[0m, in \u001b[0;36mUnevaluatedSparseOperation._evaluate\u001b[0;34m(self, **kwargs)\u001b[0m\n\u001b[1;32m     40\u001b[0m \u001b[38;5;28;01mdef\u001b[39;00m \u001b[38;5;21m_evaluate\u001b[39m(\u001b[38;5;28mself\u001b[39m, \u001b[38;5;241m*\u001b[39m\u001b[38;5;241m*\u001b[39mkwargs):\n\u001b[0;32m---> 41\u001b[0m     return_value \u001b[38;5;241m=\u001b[39m \u001b[38;5;28;43mself\u001b[39;49m\u001b[38;5;241;43m.\u001b[39;49m\u001b[43mcallback\u001b[49m\u001b[43m(\u001b[49m\u001b[43m)\u001b[49m\n\u001b[1;32m     42\u001b[0m     \u001b[38;5;28;01massert\u001b[39;00m(\u001b[38;5;28mall\u001b[39m(\u001b[38;5;28misinstance\u001b[39m(i, Eq) \u001b[38;5;28;01mfor\u001b[39;00m i \u001b[38;5;129;01min\u001b[39;00m return_value))\n\u001b[1;32m     43\u001b[0m     \u001b[38;5;28;01mreturn\u001b[39;00m return_value\n",
      "File \u001b[0;32m~/devito/devito/operations/interpolators.py:293\u001b[0m, in \u001b[0;36mLinearInterpolator.inject.<locals>.callback\u001b[0;34m()\u001b[0m\n\u001b[1;32m    289\u001b[0m \u001b[38;5;28;01mexcept\u001b[39;00m \u001b[38;5;167;01mAttributeError\u001b[39;00m:\n\u001b[1;32m    290\u001b[0m     \u001b[38;5;66;03m# E.g., a generic SymPy expression or a number\u001b[39;00m\n\u001b[1;32m    291\u001b[0m     _expr \u001b[38;5;241m=\u001b[39m expr\n\u001b[0;32m--> 293\u001b[0m variables \u001b[38;5;241m=\u001b[39m \u001b[38;5;28mlist\u001b[39m(\u001b[43mretrieve_function_carriers\u001b[49m\u001b[43m(\u001b[49m\u001b[43m_expr\u001b[49m\u001b[43m)\u001b[49m) \u001b[38;5;241m+\u001b[39m [field]\n\u001b[1;32m    295\u001b[0m \u001b[38;5;66;03m# Need to get origin of the field in case it is staggered\u001b[39;00m\n\u001b[1;32m    296\u001b[0m field_offset \u001b[38;5;241m=\u001b[39m field\u001b[38;5;241m.\u001b[39morigin\n",
      "File \u001b[0;32m~/devito/devito/symbolics/search.py:155\u001b[0m, in \u001b[0;36mretrieve_function_carriers\u001b[0;34m(exprs, mode)\u001b[0m\n\u001b[1;32m    147\u001b[0m \u001b[38;5;124;03m\"\"\"\u001b[39;00m\n\u001b[1;32m    148\u001b[0m \u001b[38;5;124;03mShorthand to retrieve the DiscreteFunction carriers in ``exprs``. An\u001b[39;00m\n\u001b[1;32m    149\u001b[0m \u001b[38;5;124;03mobject carries a DiscreteFunction if any of the following conditions are met: ::\u001b[39;00m\n\u001b[0;32m   (...)\u001b[0m\n\u001b[1;32m    152\u001b[0m \u001b[38;5;124;03m    * it is an Indexed, which internally has a pointer to a DiscreteFunction.\u001b[39;00m\n\u001b[1;32m    153\u001b[0m \u001b[38;5;124;03m\"\"\"\u001b[39;00m\n\u001b[1;32m    154\u001b[0m query \u001b[38;5;241m=\u001b[39m \u001b[38;5;28;01mlambda\u001b[39;00m i: q_function(i) \u001b[38;5;129;01mor\u001b[39;00m q_indexed(i)\n\u001b[0;32m--> 155\u001b[0m retval \u001b[38;5;241m=\u001b[39m \u001b[43msearch\u001b[49m\u001b[43m(\u001b[49m\u001b[43mexprs\u001b[49m\u001b[43m,\u001b[49m\u001b[43m \u001b[49m\u001b[43mquery\u001b[49m\u001b[43m,\u001b[49m\u001b[43m \u001b[49m\u001b[43mmode\u001b[49m\u001b[43m,\u001b[49m\u001b[43m \u001b[49m\u001b[38;5;124;43m'\u001b[39;49m\u001b[38;5;124;43mdfs\u001b[39;49m\u001b[38;5;124;43m'\u001b[39;49m\u001b[43m)\u001b[49m\n\u001b[1;32m    156\u001b[0m \u001b[38;5;66;03m# Filter off Indexeds not carrying a DiscreteFunction\u001b[39;00m\n\u001b[1;32m    157\u001b[0m \u001b[38;5;28;01mfor\u001b[39;00m i \u001b[38;5;129;01min\u001b[39;00m \u001b[38;5;28mlist\u001b[39m(retval):\n",
      "File \u001b[0;32m~/devito/devito/symbolics/search.py:117\u001b[0m, in \u001b[0;36msearch\u001b[0;34m(exprs, query, mode, visit, deep)\u001b[0m\n\u001b[1;32m    115\u001b[0m \u001b[38;5;28;01mfor\u001b[39;00m e \u001b[38;5;129;01min\u001b[39;00m as_tuple(exprs):\n\u001b[1;32m    116\u001b[0m     \u001b[38;5;28;01mif\u001b[39;00m visit \u001b[38;5;241m==\u001b[39m \u001b[38;5;124m'\u001b[39m\u001b[38;5;124mdfs\u001b[39m\u001b[38;5;124m'\u001b[39m:\n\u001b[0;32m--> 117\u001b[0m         found\u001b[38;5;241m.\u001b[39mupdate(\u001b[43msearcher\u001b[49m\u001b[38;5;241;43m.\u001b[39;49m\u001b[43mdfs\u001b[49m\u001b[43m(\u001b[49m\u001b[43me\u001b[49m\u001b[43m)\u001b[49m)\n\u001b[1;32m    118\u001b[0m     \u001b[38;5;28;01melif\u001b[39;00m visit \u001b[38;5;241m==\u001b[39m \u001b[38;5;124m'\u001b[39m\u001b[38;5;124mbfs\u001b[39m\u001b[38;5;124m'\u001b[39m:\n\u001b[1;32m    119\u001b[0m         found\u001b[38;5;241m.\u001b[39mupdate(searcher\u001b[38;5;241m.\u001b[39mbfs(e))\n",
      "File \u001b[0;32m~/devito/devito/symbolics/search.py:67\u001b[0m, in \u001b[0;36mSearch.dfs\u001b[0;34m(self, expr)\u001b[0m\n\u001b[1;32m     58\u001b[0m \u001b[38;5;124;03m\"\"\"\u001b[39;00m\n\u001b[1;32m     59\u001b[0m \u001b[38;5;124;03mPerform a DFS search.\u001b[39;00m\n\u001b[1;32m     60\u001b[0m \n\u001b[0;32m   (...)\u001b[0m\n\u001b[1;32m     64\u001b[0m \u001b[38;5;124;03m    The searched expression.\u001b[39;00m\n\u001b[1;32m     65\u001b[0m \u001b[38;5;124;03m\"\"\"\u001b[39;00m\n\u001b[1;32m     66\u001b[0m found \u001b[38;5;241m=\u001b[39m \u001b[38;5;28mself\u001b[39m\u001b[38;5;241m.\u001b[39mcollection()\n\u001b[0;32m---> 67\u001b[0m \u001b[38;5;28;01mfor\u001b[39;00m a \u001b[38;5;129;01min\u001b[39;00m \u001b[38;5;28;43mself\u001b[39;49m\u001b[38;5;241;43m.\u001b[39;49m\u001b[43m_next\u001b[49m\u001b[43m(\u001b[49m\u001b[43mexpr\u001b[49m\u001b[43m)\u001b[49m:\n\u001b[1;32m     68\u001b[0m     found\u001b[38;5;241m.\u001b[39mupdate(\u001b[38;5;28mself\u001b[39m\u001b[38;5;241m.\u001b[39mdfs(a))\n\u001b[1;32m     69\u001b[0m \u001b[38;5;28;01mif\u001b[39;00m \u001b[38;5;28mself\u001b[39m\u001b[38;5;241m.\u001b[39mquery(expr):\n",
      "File \u001b[0;32m~/devito/devito/symbolics/search.py:52\u001b[0m, in \u001b[0;36mSearch._next\u001b[0;34m(self, expr)\u001b[0m\n\u001b[1;32m     50\u001b[0m \u001b[38;5;28;01mif\u001b[39;00m \u001b[38;5;28mself\u001b[39m\u001b[38;5;241m.\u001b[39mdeep \u001b[38;5;129;01mis\u001b[39;00m \u001b[38;5;28;01mTrue\u001b[39;00m \u001b[38;5;129;01mand\u001b[39;00m expr\u001b[38;5;241m.\u001b[39mis_Indexed:\n\u001b[1;32m     51\u001b[0m     \u001b[38;5;28;01mreturn\u001b[39;00m expr\u001b[38;5;241m.\u001b[39mindices\n\u001b[0;32m---> 52\u001b[0m \u001b[38;5;28;01melif\u001b[39;00m \u001b[43mq_leaf\u001b[49m\u001b[43m(\u001b[49m\u001b[43mexpr\u001b[49m\u001b[43m)\u001b[49m:\n\u001b[1;32m     53\u001b[0m     \u001b[38;5;28;01mreturn\u001b[39;00m ()\n\u001b[1;32m     54\u001b[0m \u001b[38;5;28;01melse\u001b[39;00m:\n",
      "File \u001b[0;32m~/devito/devito/symbolics/queries.py:34\u001b[0m, in \u001b[0;36mq_leaf\u001b[0;34m(expr)\u001b[0m\n\u001b[1;32m     33\u001b[0m \u001b[38;5;28;01mdef\u001b[39;00m \u001b[38;5;21mq_leaf\u001b[39m(expr):\n\u001b[0;32m---> 34\u001b[0m     \u001b[38;5;28;01mreturn\u001b[39;00m \u001b[43mexpr\u001b[49m\u001b[38;5;241;43m.\u001b[39;49m\u001b[43mis_Atom\u001b[49m \u001b[38;5;129;01mor\u001b[39;00m expr\u001b[38;5;241m.\u001b[39mis_Indexed \u001b[38;5;129;01mor\u001b[39;00m \u001b[38;5;28misinstance\u001b[39m(expr, extra_leaves)\n",
      "\u001b[0;31mAttributeError\u001b[0m: 'Data' object has no attribute 'is_Atom'"
     ]
    }
   ],
   "source": [
    "class ElasticPropagator:\n",
    "    \"\"\"\n",
    "    An isotropic elastic wave propagator\n",
    "    \n",
    "    Parameters\n",
    "    ----------\n",
    "    model : ElasticModel\n",
    "        The model through which to propagate\n",
    "    src : SparseTimeFunction\n",
    "        The sources. Default is None.\n",
    "    rec : SparseTimeFunction\n",
    "        The receivers. Default is None.\n",
    "        \n",
    "    Methods\n",
    "    -------\n",
    "    apply(*args, **kwargs)\n",
    "        Alias for self.operator.apply()\n",
    "    \"\"\"\n",
    "    def __init__(self, model, **kwargs):\n",
    "        self._model = model\n",
    "        self._src = kwargs.get('src')\n",
    "        self._rec = kwargs.get('rec')\n",
    "        \n",
    "        self._setup_equations()\n",
    "        self._sources = []\n",
    "        # if self.src is not None:\n",
    "        #     self._setup_sources()\n",
    "            \n",
    "        self._receivers = []\n",
    "        if self.rec is not None:\n",
    "            self._setup_receivers()\n",
    "\n",
    "        dt = model.dt(0.5)\n",
    "        τ = self.model.τ\n",
    "        print(self.src)\n",
    "        print(dt)\n",
    "        src_xx = self.src.inject(field=τ[0, 0].forward,\n",
    "                                 expr=dt)\n",
    "        src_yy = self.src.inject(field=τ[1, 1].forward,\n",
    "                                 expr=dt)\n",
    "        src_zz = self.src.inject(field=τ[2, 2].forward,\n",
    "                                 expr=dt)\n",
    "        self._operator = dv.Operator(src_yy)\n",
    "        \n",
    "    def _setup_equations(self):\n",
    "        \"\"\"Set up the update equations\"\"\"\n",
    "        vp = self.model.vp\n",
    "        vs = self.model.vs\n",
    "        ρ = self.model.ρ\n",
    "        τ = self.model.τ\n",
    "        v = self.model.v\n",
    "        damp = self.model.damp\n",
    "\n",
    "        b = 1/ρ\n",
    "        μ = vs**2/ρ\n",
    "        λ = (vp**2/ρ) - 2*μ\n",
    "        \n",
    "        pde_v = v.dt - b * dv.div(τ)\n",
    "        pde_tau = τ.dt - λ * dv.diag(dv.div(v.forward)) \\\n",
    "            - μ * (dv.grad(v.forward) + dv.grad(v.forward).T)\n",
    "        \n",
    "        # Time update \n",
    "        u_v = dv.Eq(v.forward, damp*dv.solve(pde_v, v.forward))\n",
    "        u_t = dv.Eq(τ.forward,  damp*dv.solve(pde_tau, τ.forward))\n",
    "        \n",
    "        self._equations = [u_v, u_t]\n",
    "        \n",
    "    def _setup_sources(self):\n",
    "        \"\"\"Set up the source terms\"\"\"\n",
    "        τ = self.model.τ\n",
    "        dt = model.dt(0.5)\n",
    "        for i in range(len(self.model.grid.dimensions)):\n",
    "            self._sources.append(self.src.inject(field=τ[i, i].forward,\n",
    "                                                 expr=dt*self.src))\n",
    "            \n",
    "    def _setup_receivers(self):\n",
    "        \"\"\"Set up the receiver terms\"\"\"\n",
    "        v = self.model.v\n",
    "        dt = model.dt(0.5)\n",
    "        for i in range(len(self.model.grid.dimensions)):\n",
    "            self._receivers.append(self.rec.interpolate(field=v[i].forward))\n",
    "            \n",
    "    def apply(self, *args, **kwargs):\n",
    "        \"\"\"Apply the operator\"\"\"\n",
    "        self.operator.apply(*args, **kwargs)\n",
    "        \n",
    "    @property\n",
    "    def model(self):\n",
    "        \"\"\"The model through which waves are propagated\"\"\"\n",
    "        return self._model\n",
    "    \n",
    "    @property\n",
    "    def src(self):\n",
    "        \"\"\"The source object\"\"\"\n",
    "        return self._src\n",
    "    \n",
    "    @property\n",
    "    def rec(self):\n",
    "        \"\"\"The receiver object\"\"\"\n",
    "        return self._rec\n",
    "    \n",
    "    @property\n",
    "    def operator(self):\n",
    "        \"\"\"The FD operator\"\"\"\n",
    "        return self._operator\n",
    "    \n",
    "    \n",
    "    \n",
    "from examples.seismic import TimeAxis, RickerSource\n",
    "\n",
    "print(model.dt(0.5))\n",
    "t0, tn = 0., 400.\n",
    "time_range = TimeAxis(start=t0, stop=tn, step=model.dt(0.5))\n",
    "\n",
    "src = RickerSource(name='src', grid=model.grid, f0=0.010, time_range=time_range)\n",
    "src.coordinates.data[:] = 250.\n",
    "\n",
    "propagator = ElasticPropagator(model, src=src)\n",
    "propagator.apply(dt=model.dt(0.5), time_M=10)"
   ]
  },
  {
   "cell_type": "code",
   "execution_count": null,
   "id": "17c033f2",
   "metadata": {},
   "outputs": [],
   "source": []
  }
 ],
 "metadata": {
  "kernelspec": {
   "display_name": "Python 3 (ipykernel)",
   "language": "python",
   "name": "python3"
  },
  "language_info": {
   "codemirror_mode": {
    "name": "ipython",
    "version": 3
   },
   "file_extension": ".py",
   "mimetype": "text/x-python",
   "name": "python",
   "nbconvert_exporter": "python",
   "pygments_lexer": "ipython3",
   "version": "3.8.5"
  }
 },
 "nbformat": 4,
 "nbformat_minor": 5
}
