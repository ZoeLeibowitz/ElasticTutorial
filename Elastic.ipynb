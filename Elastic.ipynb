{
 "cells": [
  {
   "cell_type": "markdown",
   "id": "79986697",
   "metadata": {},
   "source": [
    "# Isotropic elastic wave equation implementation on a staggered grid\n",
    "\n",
    "Some preamble here"
   ]
  },
  {
   "cell_type": "code",
   "execution_count": 1,
   "id": "495d5cc0",
   "metadata": {},
   "outputs": [],
   "source": [
    "import devito as dv"
   ]
  },
  {
   "cell_type": "code",
   "execution_count": 2,
   "id": "5589e8d2",
   "metadata": {},
   "outputs": [],
   "source": [
    "# Create a 3D grid\n",
    "shape = (51, 51, 51)\n",
    "extent = (500., 500., 500.)  # this is in metres\n",
    "grid = dv.Grid(shape=shape, extent=extent)"
   ]
  },
  {
   "cell_type": "markdown",
   "id": "6157b113",
   "metadata": {},
   "source": [
    "# Vectorial form\n",
    "\n",
    "One of the advantages of Devito is the high level symbolic API. This allows for straight forward generalisation of expressions between 2D and 3D. \n",
    "\n",
    "\n",
    "Leveraging the symbolic algebra capabilities of Devito enables concise, flexible specifications of equations. In this case, it's desirable to represent the isotropic elastic system of equations in the following form:\n",
    "\n",
    "\n",
    "\\begin{cases}\n",
    "&\\frac{dv}{dt} = \\underline{\\nabla} . \\tau \\\\\n",
    "&\\frac{d \\tau}{dt} = \\lambda \\text{diag}(\\underline{\\nabla} . \\underline{v}) + \\mu (\\underline{\\nabla} \\underline{v} + (\\underline{\\nabla} \\underline{v})^T)\n",
    "\\end{cases}\n",
    "\n",
    "\n",
    "where in 3D, $\\underline{v}$ is a vector valued function:\n",
    "\n",
    "$\\underline{v}(t, x, y, z) = (v_x(t, x, y, z), v_y(t, x, y, z), v_z(t, x, y, z))$\n",
    "\n",
    "and the stress $\\tau$ is a symmetric tensor valued function:\n",
    "\n",
    "\n",
    "$\\tau(t, x, y, z) = \\begin{bmatrix}\\tau_{xx}(t, x, y, z) & \\tau_{xy}(t, x, y, z)  & \\tau_{xz}(t, x, y, z) \\\\\\tau_{yx}(t, x, y, z) & \\tau_{yy}(t, x, y, z) & \\tau_{yz}(t, x, y, z)  \\\\\\tau_{zx}(t, x, y, z) & \\tau_{zy}(t, x, y, z) & \\tau_{zz}(t, x, y, z)\\end{bmatrix}$\n",
    "\n",
    "\n",
    "We show in the following how to setup the elastic wave-equation form Devito's high-level tensorial types."
   ]
  },
  {
   "cell_type": "markdown",
   "id": "5ad6bec0",
   "metadata": {},
   "source": [
    "As $\\underline{v}$ is a vector which varies in time, we represent it as a `VectorTimeFunction`."
   ]
  },
  {
   "cell_type": "code",
   "execution_count": 3,
   "id": "ea3d543e",
   "metadata": {},
   "outputs": [
    {
     "data": {
      "text/latex": [
       "$\\displaystyle \\left[\\begin{matrix}v_{x}{\\left(t,x + \\frac{h_{x}}{2},y,z \\right)}\\\\v_{y}{\\left(t,x,y + \\frac{h_{y}}{2},z \\right)}\\\\v_{z}{\\left(t,x,y,z + \\frac{h_{z}}{2} \\right)}\\end{matrix}\\right]$"
      ],
      "text/plain": [
       "Vector(v_x(t, x + h_x/2, y, z), v_y(t, x, y + h_y/2, z), v_z(t, x, y, z + h_z/2))"
      ]
     },
     "execution_count": 3,
     "metadata": {},
     "output_type": "execute_result"
    }
   ],
   "source": [
    "so = 4\n",
    "to = 1\n",
    "\n",
    "v = dv.VectorTimeFunction(name='v', grid=grid, space_order=so, time_order=to)\n",
    "v"
   ]
  },
  {
   "cell_type": "markdown",
   "id": "06eef0f2",
   "metadata": {},
   "source": [
    "We can see that staggering is applied by default.\n",
    "\n",
    "There is also a `TensorTimeFunction` to store $\\tau$:"
   ]
  },
  {
   "cell_type": "code",
   "execution_count": 4,
   "id": "32cbbc9e",
   "metadata": {},
   "outputs": [
    {
     "data": {
      "text/latex": [
       "$\\displaystyle \\left[\\begin{matrix}\\tau_{xx}{\\left(t,x,y,z \\right)} & \\tau_{xy}{\\left(t,x + \\frac{h_{x}}{2},y + \\frac{h_{y}}{2},z \\right)} & \\tau_{xz}{\\left(t,x + \\frac{h_{x}}{2},y,z + \\frac{h_{z}}{2} \\right)}\\\\\\tau_{xy}{\\left(t,x + \\frac{h_{x}}{2},y + \\frac{h_{y}}{2},z \\right)} & \\tau_{yy}{\\left(t,x,y,z \\right)} & \\tau_{yz}{\\left(t,x,y + \\frac{h_{y}}{2},z + \\frac{h_{z}}{2} \\right)}\\\\\\tau_{xz}{\\left(t,x + \\frac{h_{x}}{2},y,z + \\frac{h_{z}}{2} \\right)} & \\tau_{yz}{\\left(t,x,y + \\frac{h_{y}}{2},z + \\frac{h_{z}}{2} \\right)} & \\tau_{zz}{\\left(t,x,y,z \\right)}\\end{matrix}\\right]$"
      ],
      "text/plain": [
       "Matrix([\n",
       "[                tau_xx(t, x, y, z), tau_xy(t, x + h_x/2, y + h_y/2, z), tau_xz(t, x + h_x/2, y, z + h_z/2)],\n",
       "[tau_xy(t, x + h_x/2, y + h_y/2, z),                 tau_yy(t, x, y, z), tau_yz(t, x, y + h_y/2, z + h_z/2)],\n",
       "[tau_xz(t, x + h_x/2, y, z + h_z/2), tau_yz(t, x, y + h_y/2, z + h_z/2),                 tau_zz(t, x, y, z)]])"
      ]
     },
     "execution_count": 4,
     "metadata": {},
     "output_type": "execute_result"
    }
   ],
   "source": [
    "τ = dv.TensorTimeFunction(name='tau', grid=grid, space_order=so, time_order=to)\n",
    "τ"
   ]
  },
  {
   "cell_type": "markdown",
   "id": "3abdbed2",
   "metadata": {},
   "source": [
    "Note that staggering is also applied here by default. Furthermore, this tensor is symmetrical:"
   ]
  },
  {
   "cell_type": "code",
   "execution_count": 5,
   "id": "4cfcf9dd",
   "metadata": {},
   "outputs": [
    {
     "data": {
      "text/plain": [
       "True"
      ]
     },
     "execution_count": 5,
     "metadata": {},
     "output_type": "execute_result"
    }
   ],
   "source": [
    "τ[0, 1] is τ[1, 0]"
   ]
  },
  {
   "cell_type": "markdown",
   "id": "96cabd8a",
   "metadata": {},
   "source": [
    "Let's define our parameters. Whilst these will be constant for now, it is trivial to make them vary in space (as will be shown later). "
   ]
  },
  {
   "cell_type": "code",
   "execution_count": 6,
   "id": "6b8bb46a",
   "metadata": {},
   "outputs": [],
   "source": [
    "vs = 1500.  # s-wave velocity in m/s\n",
    "vp = 2500.  # p-wave velocity in m/s\n",
    "ρ = 3000.  # density in kg/m^3\n",
    "\n",
    "b = 1/ρ\n",
    "μ = vs**2/ρ\n",
    "λ = (vp**2/ρ) - 2*μ"
   ]
  },
  {
   "cell_type": "markdown",
   "id": "3048bfcb",
   "metadata": {},
   "source": [
    "With this, we can write our equations in the following way:"
   ]
  },
  {
   "cell_type": "markdown",
   "id": "7a581b4c",
   "metadata": {},
   "source": [
    "Firstly, for the velocity equation: $\\frac{dv}{dt} = \\underline{\\nabla} . \\tau$, we formulate it as follows:"
   ]
  },
  {
   "cell_type": "code",
   "execution_count": 7,
   "id": "a2f54b62",
   "metadata": {},
   "outputs": [
    {
     "data": {
      "text/latex": [
       "$\\displaystyle \\left[\\begin{matrix}- 0.000333333333333333 \\frac{\\partial}{\\partial x} \\tau_{xx}{\\left(t,x,y,z \\right)} - 0.000333333333333333 \\frac{\\partial}{\\partial y} \\tau_{xy}{\\left(t,x + \\frac{h_{x}}{2},y + \\frac{h_{y}}{2},z \\right)} - 0.000333333333333333 \\frac{\\partial}{\\partial z} \\tau_{xz}{\\left(t,x + \\frac{h_{x}}{2},y,z + \\frac{h_{z}}{2} \\right)} + \\frac{\\partial}{\\partial t} v_{x}{\\left(t,x + \\frac{h_{x}}{2},y,z \\right)}\\\\- 0.000333333333333333 \\frac{\\partial}{\\partial x} \\tau_{xy}{\\left(t,x + \\frac{h_{x}}{2},y + \\frac{h_{y}}{2},z \\right)} - 0.000333333333333333 \\frac{\\partial}{\\partial y} \\tau_{yy}{\\left(t,x,y,z \\right)} - 0.000333333333333333 \\frac{\\partial}{\\partial z} \\tau_{yz}{\\left(t,x,y + \\frac{h_{y}}{2},z + \\frac{h_{z}}{2} \\right)} + \\frac{\\partial}{\\partial t} v_{y}{\\left(t,x,y + \\frac{h_{y}}{2},z \\right)}\\\\- 0.000333333333333333 \\frac{\\partial}{\\partial x} \\tau_{xz}{\\left(t,x + \\frac{h_{x}}{2},y,z + \\frac{h_{z}}{2} \\right)} - 0.000333333333333333 \\frac{\\partial}{\\partial y} \\tau_{yz}{\\left(t,x,y + \\frac{h_{y}}{2},z + \\frac{h_{z}}{2} \\right)} - 0.000333333333333333 \\frac{\\partial}{\\partial z} \\tau_{zz}{\\left(t,x,y,z \\right)} + \\frac{\\partial}{\\partial t} v_{z}{\\left(t,x,y,z + \\frac{h_{z}}{2} \\right)}\\end{matrix}\\right]$"
      ],
      "text/plain": [
       "Vector(-0.000333333333333333*Derivative(tau_xx(t, x, y, z), x) - 0.000333333333333333*Derivative(tau_xy(t, x + h_x/2, y + h_y/2, z), y) - 0.000333333333333333*Derivative(tau_xz(t, x + h_x/2, y, z + h_z/2), z) + Derivative(v_x(t, x + h_x/2, y, z), t), -0.000333333333333333*Derivative(tau_xy(t, x + h_x/2, y + h_y/2, z), x) - 0.000333333333333333*Derivative(tau_yy(t, x, y, z), y) - 0.000333333333333333*Derivative(tau_yz(t, x, y + h_y/2, z + h_z/2), z) + Derivative(v_y(t, x, y + h_y/2, z), t), -0.000333333333333333*Derivative(tau_xz(t, x + h_x/2, y, z + h_z/2), x) - 0.000333333333333333*Derivative(tau_yz(t, x, y + h_y/2, z + h_z/2), y) - 0.000333333333333333*Derivative(tau_zz(t, x, y, z), z) + Derivative(v_z(t, x, y, z + h_z/2), t))"
      ]
     },
     "execution_count": 7,
     "metadata": {},
     "output_type": "execute_result"
    }
   ],
   "source": [
    "pde_v = v.dt - b * dv.div(τ)\n",
    "pde_v"
   ]
  },
  {
   "cell_type": "markdown",
   "id": "bb10e286",
   "metadata": {},
   "source": [
    "And for the stress equation: $\\frac{d \\tau}{dt} = \\lambda \\text{diag}(\\underline{\\nabla} . \\underline{v}) + \\mu (\\underline{\\nabla} \\underline{v} + (\\underline{\\nabla} \\underline{v})^T)$:"
   ]
  },
  {
   "cell_type": "code",
   "execution_count": 8,
   "id": "0e4ff6c3",
   "metadata": {},
   "outputs": [],
   "source": [
    "pde_tau = τ.dt - λ * dv.diag(dv.div(v.forward)) - μ * (dv.grad(v.forward) + dv.grad(v.forward).T)\n",
    "# pde_tau  # uncomment to print (may go off of page)\n"
   ]
  },
  {
   "cell_type": "markdown",
   "id": "ca0f1b87",
   "metadata": {},
   "source": []
  },
  {
   "cell_type": "code",
   "execution_count": 9,
   "id": "de52f539",
   "metadata": {},
   "outputs": [],
   "source": [
    "# Time update \n",
    "u_v = dv.Eq(v.forward, dv.solve(pde_v, v.forward))\n",
    "u_t = dv.Eq(τ.forward,  dv.solve(pde_tau, τ.forward))"
   ]
  },
  {
   "cell_type": "markdown",
   "id": "b35d42de",
   "metadata": {},
   "source": [
    "We will need to create a source to inject into this field. For this we will import a `RickerSource` from the examples. Note that this is a thin wrapper around `SparseTimeFunction` with a prefilled time series."
   ]
  },
  {
   "cell_type": "code",
   "execution_count": 10,
   "id": "a58c267b",
   "metadata": {},
   "outputs": [],
   "source": [
    "from examples.seismic import TimeAxis, RickerSource\n",
    "\n",
    "t0, tn = 0., 400.\n",
    "dt = 0.2*min(grid.spacing)/vs  # Courant number is 0.2\n",
    "time_range = TimeAxis(start=t0, stop=tn, step=dt)\n",
    "\n",
    "src = RickerSource(name='src', grid=grid, f0=0.010, time_range=time_range)\n",
    "src.coordinates.data[:] = 250.\n",
    "\n",
    "# The source injection term\n",
    "src_xx = src.inject(field=τ.forward[0, 0], expr=dt*src)\n",
    "src_yy = src.inject(field=τ.forward[1, 1], expr=dt*src)\n",
    "src_zz = src.inject(field=τ.forward[2, 2], expr=dt*src)"
   ]
  },
  {
   "cell_type": "markdown",
   "id": "03459f09",
   "metadata": {},
   "source": [
    "Now we create a Devito `Operator`. Note the order of arguments supplied to the operator - this corresponds to the order of these updates within the time loop."
   ]
  },
  {
   "cell_type": "code",
   "execution_count": null,
   "id": "c53aee69",
   "metadata": {},
   "outputs": [],
   "source": [
    "op = dv.Operator([u_v, u_t] + src_xx + src_yy + src_zz)\n",
    "op(dt=dt)"
   ]
  },
  {
   "cell_type": "markdown",
   "id": "acd67419",
   "metadata": {},
   "source": [
    "With this, the wavefield can be rendered to show its 3D structure. We will choose the x normal stress field for this visualisation."
   ]
  },
  {
   "cell_type": "code",
   "execution_count": null,
   "id": "f56440b9",
   "metadata": {},
   "outputs": [],
   "source": [
    "# import numpy as np\n",
    "\n",
    "# try:\n",
    "#     import trame\n",
    "# except ModuleNotFoundError:\n",
    "#     ! pip install trame\n",
    "# try:\n",
    "#     import pyvista as pv\n",
    "# except ModuleNotFoundError:\n",
    "#     ! pip install pyvista\n",
    "#     import pyvista as pv\n",
    "\n",
    "# rendergrid = pv.UniformGrid()\n",
    "# rendergrid.dimensions = np.array(τ[0, 0].data[-1].shape) + 1\n",
    "# rendergrid.origin = (0., 0., 0.)\n",
    "# rendergrid.spacing = grid.spacing\n",
    "# rendergrid.cell_data[\"x normal stress\"] = τ[0, 0].data[-1].flatten(order=\"F\")\n",
    "\n",
    "# sargs = dict(\n",
    "#     title_font_size=10,\n",
    "#     label_font_size=10,\n",
    "#     n_labels=2,\n",
    "#     color='k',\n",
    "#     position_x=0.05,\n",
    "#     position_y=0.05,\n",
    "#     height=0.15,\n",
    "#     width=0.3\n",
    "    \n",
    "# )\n",
    "\n",
    "# vmax = np.amax(τ[0, 0].data[-1])\n",
    "# y_slices = rendergrid.slice_along_axis(n=5, axis=\"y\")\n",
    "# p = pv.Plotter(notebook=True, window_size=(600,400))\n",
    "# p.add_mesh(rendergrid.outline(), color=\"k\")\n",
    "# p.add_mesh(y_slices, cmap='seismic', opacity=0.8, clim=[-vmax, vmax], scalar_bar_args=sargs)\n",
    "# p.set_background('white')\n",
    "# p.show()\n",
    "# # NOTE: you may have to click on the white box below to make the visualisation appear"
   ]
  },
  {
   "cell_type": "markdown",
   "id": "57c9ae6d",
   "metadata": {},
   "source": [
    "In the Devito example notebooks you may have encountered various model and propagator objects used to streamline these notebooks. In practice, we want to make our own versions of these to suit the task at hand. We will outline below one potential strategy to do this for this particular problem."
   ]
  },
  {
   "cell_type": "code",
   "execution_count": 9,
   "id": "3bbd0dc8",
   "metadata": {},
   "outputs": [
    {
     "name": "stdout",
     "output_type": "stream",
     "text": [
      "10.0 (30, 30)\n"
     ]
    },
    {
     "name": "stderr",
     "output_type": "stream",
     "text": [
      "/var/folders/b1/3bsk_dln7nsg9g6f59jch2nw0000gn/T/devito-jitcache-uid501/f546ab3c83210724c3e058dd89ffeb870c5c9051.c:38:52: error: implicit declaration of function 'MAX' is invalid in C99 [-Werror,-Wimplicit-function-declaration]\n",
      "      float ssa0 = (1.0F/10.0F)*damp[x + 2][y + 2]*MAX(10, x);\n",
      "                                                   ^\n",
      "1 error generated.\n",
      "FAILED compiler invocation:clang -O3 -g -fPIC -Wall -std=c99 -Wno-unused-result -Wno-unused-variable -ffast-math -shared /var/folders/b1/3bsk_dln7nsg9g6f59jch2nw0000gn/T/devito-jitcache-uid501/f546ab3c83210724c3e058dd89ffeb870c5c9051.c -lm -o /var/folders/b1/3bsk_dln7nsg9g6f59jch2nw0000gn/T/devito-jitcache-uid501/f546ab3c83210724c3e058dd89ffeb870c5c9051.dylib\n"
     ]
    },
    {
     "ename": "CompileError",
     "evalue": "module compilation failed",
     "output_type": "error",
     "traceback": [
      "\u001b[0;31m---------------------------------------------------------------------------\u001b[0m",
      "\u001b[0;31mCompileError\u001b[0m                              Traceback (most recent call last)",
      "Cell \u001b[0;32mIn[9], line 210\u001b[0m\n\u001b[1;32m    206\u001b[0m \u001b[38;5;250m        \u001b[39m\u001b[38;5;124;03m\"\"\"Damping mask\"\"\"\u001b[39;00m\n\u001b[1;32m    207\u001b[0m         \u001b[38;5;28;01mreturn\u001b[39;00m \u001b[38;5;28mself\u001b[39m\u001b[38;5;241m.\u001b[39m_damp\n\u001b[0;32m--> 210\u001b[0m model \u001b[38;5;241m=\u001b[39m \u001b[43mElasticModel\u001b[49m\u001b[43m(\u001b[49m\u001b[43mnp\u001b[49m\u001b[38;5;241;43m.\u001b[39;49m\u001b[43mrandom\u001b[49m\u001b[38;5;241;43m.\u001b[39;49m\u001b[43mrand\u001b[49m\u001b[43m(\u001b[49m\u001b[38;5;241;43m10\u001b[39;49m\u001b[43m,\u001b[49m\u001b[43m \u001b[49m\u001b[38;5;241;43m10\u001b[39;49m\u001b[43m)\u001b[49m\u001b[43m,\u001b[49m\u001b[43m \u001b[49m\u001b[43mnp\u001b[49m\u001b[38;5;241;43m.\u001b[39;49m\u001b[43mrandom\u001b[49m\u001b[38;5;241;43m.\u001b[39;49m\u001b[43mrand\u001b[49m\u001b[43m(\u001b[49m\u001b[38;5;241;43m10\u001b[39;49m\u001b[43m,\u001b[49m\u001b[43m \u001b[49m\u001b[38;5;241;43m10\u001b[39;49m\u001b[43m)\u001b[49m\u001b[43m,\u001b[49m\u001b[43m \u001b[49m\u001b[43mnp\u001b[49m\u001b[38;5;241;43m.\u001b[39;49m\u001b[43mrandom\u001b[49m\u001b[38;5;241;43m.\u001b[39;49m\u001b[43mrand\u001b[49m\u001b[43m(\u001b[49m\u001b[38;5;241;43m10\u001b[39;49m\u001b[43m,\u001b[49m\u001b[43m \u001b[49m\u001b[38;5;241;43m10\u001b[39;49m\u001b[43m)\u001b[49m\u001b[43m)\u001b[49m\n",
      "Cell \u001b[0;32mIn[9], line 107\u001b[0m, in \u001b[0;36mElasticModel.__init__\u001b[0;34m(self, vp, vs, ρ, **kwargs)\u001b[0m\n\u001b[1;32m    104\u001b[0m \u001b[38;5;28mself\u001b[39m\u001b[38;5;241m.\u001b[39m_initialise_functions()\n\u001b[1;32m    105\u001b[0m \u001b[38;5;28mself\u001b[39m\u001b[38;5;241m.\u001b[39m_fill_parameters(vp, vs, ρ)\n\u001b[0;32m--> 107\u001b[0m \u001b[38;5;28;43mself\u001b[39;49m\u001b[38;5;241;43m.\u001b[39;49m\u001b[43m_initialise_damping\u001b[49m\u001b[43m(\u001b[49m\u001b[43m)\u001b[49m\n",
      "Cell \u001b[0;32mIn[9], line 148\u001b[0m, in \u001b[0;36mElasticModel._initialise_damping\u001b[0;34m(self)\u001b[0m\n\u001b[1;32m    145\u001b[0m     eqs\u001b[38;5;241m.\u001b[39mappend(dv\u001b[38;5;241m.\u001b[39mEq(\u001b[38;5;28mself\u001b[39m\u001b[38;5;241m.\u001b[39mdamp, \u001b[38;5;28mself\u001b[39m\u001b[38;5;241m.\u001b[39mdamp\u001b[38;5;241m*\u001b[39m(dv\u001b[38;5;241m.\u001b[39mMax(dim, \u001b[38;5;28mself\u001b[39m\u001b[38;5;241m.\u001b[39mnbl)\u001b[38;5;241m/\u001b[39m\u001b[38;5;28mself\u001b[39m\u001b[38;5;241m.\u001b[39mnbl)))\n\u001b[1;32m    147\u001b[0m op_damp \u001b[38;5;241m=\u001b[39m dv\u001b[38;5;241m.\u001b[39mOperator(eqs, name\u001b[38;5;241m=\u001b[39m\u001b[38;5;124m'\u001b[39m\u001b[38;5;124minit_damp\u001b[39m\u001b[38;5;124m'\u001b[39m)\n\u001b[0;32m--> 148\u001b[0m \u001b[43mop_damp\u001b[49m\u001b[38;5;241;43m.\u001b[39;49m\u001b[43mapply\u001b[49m\u001b[43m(\u001b[49m\u001b[43m)\u001b[49m\n\u001b[1;32m    150\u001b[0m plt\u001b[38;5;241m.\u001b[39mimshow(\u001b[38;5;28mself\u001b[39m\u001b[38;5;241m.\u001b[39mdamp\u001b[38;5;241m.\u001b[39mdata\u001b[38;5;241m.\u001b[39mT)\n\u001b[1;32m    151\u001b[0m plt\u001b[38;5;241m.\u001b[39mcolorbar()\n",
      "File \u001b[0;32m~/opt/anaconda3/envs/devito/lib/python3.9/site-packages/devito/operator/operator.py:804\u001b[0m, in \u001b[0;36mOperator.apply\u001b[0;34m(self, **kwargs)\u001b[0m\n\u001b[1;32m    802\u001b[0m arg_values \u001b[38;5;241m=\u001b[39m [args[p\u001b[38;5;241m.\u001b[39mname] \u001b[38;5;28;01mfor\u001b[39;00m p \u001b[38;5;129;01min\u001b[39;00m \u001b[38;5;28mself\u001b[39m\u001b[38;5;241m.\u001b[39mparameters]\n\u001b[1;32m    803\u001b[0m \u001b[38;5;28;01mtry\u001b[39;00m:\n\u001b[0;32m--> 804\u001b[0m     cfunction \u001b[38;5;241m=\u001b[39m \u001b[38;5;28;43mself\u001b[39;49m\u001b[38;5;241;43m.\u001b[39;49m\u001b[43mcfunction\u001b[49m\n\u001b[1;32m    805\u001b[0m     \u001b[38;5;28;01mwith\u001b[39;00m \u001b[38;5;28mself\u001b[39m\u001b[38;5;241m.\u001b[39m_profiler\u001b[38;5;241m.\u001b[39mtimer_on(\u001b[38;5;124m'\u001b[39m\u001b[38;5;124mapply\u001b[39m\u001b[38;5;124m'\u001b[39m, comm\u001b[38;5;241m=\u001b[39margs\u001b[38;5;241m.\u001b[39mcomm):\n\u001b[1;32m    806\u001b[0m         cfunction(\u001b[38;5;241m*\u001b[39marg_values)\n",
      "File \u001b[0;32m~/opt/anaconda3/envs/devito/lib/python3.9/site-packages/devito/operator/operator.py:686\u001b[0m, in \u001b[0;36mOperator.cfunction\u001b[0;34m(self)\u001b[0m\n\u001b[1;32m    684\u001b[0m \u001b[38;5;250m\u001b[39m\u001b[38;5;124;03m\"\"\"The JIT-compiled C function as a ctypes.FuncPtr object.\"\"\"\u001b[39;00m\n\u001b[1;32m    685\u001b[0m \u001b[38;5;28;01mif\u001b[39;00m \u001b[38;5;28mself\u001b[39m\u001b[38;5;241m.\u001b[39m_lib \u001b[38;5;129;01mis\u001b[39;00m \u001b[38;5;28;01mNone\u001b[39;00m:\n\u001b[0;32m--> 686\u001b[0m     \u001b[38;5;28;43mself\u001b[39;49m\u001b[38;5;241;43m.\u001b[39;49m\u001b[43m_jit_compile\u001b[49m\u001b[43m(\u001b[49m\u001b[43m)\u001b[49m\n\u001b[1;32m    687\u001b[0m     \u001b[38;5;28mself\u001b[39m\u001b[38;5;241m.\u001b[39m_lib \u001b[38;5;241m=\u001b[39m \u001b[38;5;28mself\u001b[39m\u001b[38;5;241m.\u001b[39m_compiler\u001b[38;5;241m.\u001b[39mload(\u001b[38;5;28mself\u001b[39m\u001b[38;5;241m.\u001b[39m_soname)\n\u001b[1;32m    688\u001b[0m     \u001b[38;5;28mself\u001b[39m\u001b[38;5;241m.\u001b[39m_lib\u001b[38;5;241m.\u001b[39mname \u001b[38;5;241m=\u001b[39m \u001b[38;5;28mself\u001b[39m\u001b[38;5;241m.\u001b[39m_soname\n",
      "File \u001b[0;32m~/opt/anaconda3/envs/devito/lib/python3.9/site-packages/devito/operator/operator.py:671\u001b[0m, in \u001b[0;36mOperator._jit_compile\u001b[0;34m(self)\u001b[0m\n\u001b[1;32m    669\u001b[0m \u001b[38;5;28;01mif\u001b[39;00m \u001b[38;5;28mself\u001b[39m\u001b[38;5;241m.\u001b[39m_lib \u001b[38;5;129;01mis\u001b[39;00m \u001b[38;5;28;01mNone\u001b[39;00m:\n\u001b[1;32m    670\u001b[0m     \u001b[38;5;28;01mwith\u001b[39;00m \u001b[38;5;28mself\u001b[39m\u001b[38;5;241m.\u001b[39m_profiler\u001b[38;5;241m.\u001b[39mtimer_on(\u001b[38;5;124m'\u001b[39m\u001b[38;5;124mjit-compile\u001b[39m\u001b[38;5;124m'\u001b[39m):\n\u001b[0;32m--> 671\u001b[0m         recompiled, src_file \u001b[38;5;241m=\u001b[39m \u001b[38;5;28;43mself\u001b[39;49m\u001b[38;5;241;43m.\u001b[39;49m\u001b[43m_compiler\u001b[49m\u001b[38;5;241;43m.\u001b[39;49m\u001b[43mjit_compile\u001b[49m\u001b[43m(\u001b[49m\u001b[38;5;28;43mself\u001b[39;49m\u001b[38;5;241;43m.\u001b[39;49m\u001b[43m_soname\u001b[49m\u001b[43m,\u001b[49m\n\u001b[1;32m    672\u001b[0m \u001b[43m                                                          \u001b[49m\u001b[38;5;28;43mstr\u001b[39;49m\u001b[43m(\u001b[49m\u001b[38;5;28;43mself\u001b[39;49m\u001b[38;5;241;43m.\u001b[39;49m\u001b[43mccode\u001b[49m\u001b[43m)\u001b[49m\u001b[43m)\u001b[49m\n\u001b[1;32m    674\u001b[0m     elapsed \u001b[38;5;241m=\u001b[39m \u001b[38;5;28mself\u001b[39m\u001b[38;5;241m.\u001b[39m_profiler\u001b[38;5;241m.\u001b[39mpy_timers[\u001b[38;5;124m'\u001b[39m\u001b[38;5;124mjit-compile\u001b[39m\u001b[38;5;124m'\u001b[39m]\n\u001b[1;32m    675\u001b[0m     \u001b[38;5;28;01mif\u001b[39;00m recompiled:\n",
      "File \u001b[0;32m~/opt/anaconda3/envs/devito/lib/python3.9/site-packages/devito/arch/compiler.py:338\u001b[0m, in \u001b[0;36mCompiler.jit_compile\u001b[0;34m(self, soname, code)\u001b[0m\n\u001b[1;32m    336\u001b[0m \u001b[38;5;28;01mwith\u001b[39;00m warnings\u001b[38;5;241m.\u001b[39mcatch_warnings():\n\u001b[1;32m    337\u001b[0m     warnings\u001b[38;5;241m.\u001b[39msimplefilter(\u001b[38;5;124m'\u001b[39m\u001b[38;5;124mignore\u001b[39m\u001b[38;5;124m'\u001b[39m)\n\u001b[0;32m--> 338\u001b[0m     _, _, _, recompiled \u001b[38;5;241m=\u001b[39m \u001b[43mcompile_from_string\u001b[49m\u001b[43m(\u001b[49m\u001b[38;5;28;43mself\u001b[39;49m\u001b[43m,\u001b[49m\u001b[43m \u001b[49m\u001b[43mtarget\u001b[49m\u001b[43m,\u001b[49m\u001b[43m \u001b[49m\u001b[43mcode\u001b[49m\u001b[43m,\u001b[49m\u001b[43m \u001b[49m\u001b[43msrc_file\u001b[49m\u001b[43m,\u001b[49m\n\u001b[1;32m    339\u001b[0m \u001b[43m                                              \u001b[49m\u001b[43mcache_dir\u001b[49m\u001b[38;5;241;43m=\u001b[39;49m\u001b[43mcache_dir\u001b[49m\u001b[43m,\u001b[49m\u001b[43m \u001b[49m\u001b[43mdebug\u001b[49m\u001b[38;5;241;43m=\u001b[39;49m\u001b[43mdebug\u001b[49m\u001b[43m,\u001b[49m\n\u001b[1;32m    340\u001b[0m \u001b[43m                                              \u001b[49m\u001b[43msleep_delay\u001b[49m\u001b[38;5;241;43m=\u001b[39;49m\u001b[43msleep_delay\u001b[49m\u001b[43m)\u001b[49m\n\u001b[1;32m    342\u001b[0m \u001b[38;5;28;01mreturn\u001b[39;00m recompiled, src_file\n",
      "File \u001b[0;32m~/opt/anaconda3/envs/devito/lib/python3.9/site-packages/codepy/jit.py:433\u001b[0m, in \u001b[0;36mcompile_from_string\u001b[0;34m(toolchain, name, source_string, source_name, cache_dir, debug, wait_on_error, debug_recompile, object, source_is_binary, sleep_delay)\u001b[0m\n\u001b[1;32m    431\u001b[0m     toolchain\u001b[38;5;241m.\u001b[39mbuild_object(ext_file, source_paths, debug\u001b[38;5;241m=\u001b[39mdebug)\n\u001b[1;32m    432\u001b[0m \u001b[38;5;28;01melse\u001b[39;00m:\n\u001b[0;32m--> 433\u001b[0m     \u001b[43mtoolchain\u001b[49m\u001b[38;5;241;43m.\u001b[39;49m\u001b[43mbuild_extension\u001b[49m\u001b[43m(\u001b[49m\u001b[43mext_file\u001b[49m\u001b[43m,\u001b[49m\u001b[43m \u001b[49m\u001b[43msource_paths\u001b[49m\u001b[43m,\u001b[49m\u001b[43m \u001b[49m\u001b[43mdebug\u001b[49m\u001b[38;5;241;43m=\u001b[39;49m\u001b[43mdebug\u001b[49m\u001b[43m)\u001b[49m\n\u001b[1;32m    435\u001b[0m \u001b[38;5;28;01mif\u001b[39;00m info_path \u001b[38;5;129;01mis\u001b[39;00m \u001b[38;5;129;01mnot\u001b[39;00m \u001b[38;5;28;01mNone\u001b[39;00m:\n\u001b[1;32m    436\u001b[0m     \u001b[38;5;28;01mfrom\u001b[39;00m \u001b[38;5;21;01msix\u001b[39;00m\u001b[38;5;21;01m.\u001b[39;00m\u001b[38;5;21;01mmoves\u001b[39;00m\u001b[38;5;21;01m.\u001b[39;00m\u001b[38;5;21;01mcPickle\u001b[39;00m \u001b[38;5;28;01mimport\u001b[39;00m dump\n",
      "File \u001b[0;32m~/opt/anaconda3/envs/devito/lib/python3.9/site-packages/codepy/toolchain.py:210\u001b[0m, in \u001b[0;36mGCCLikeToolchain.build_extension\u001b[0;34m(self, ext_file, source_files, debug)\u001b[0m\n\u001b[1;32m    207\u001b[0m \u001b[38;5;28;01mimport\u001b[39;00m \u001b[38;5;21;01msys\u001b[39;00m\n\u001b[1;32m    208\u001b[0m \u001b[38;5;28mprint\u001b[39m(\u001b[38;5;124m\"\u001b[39m\u001b[38;5;124mFAILED compiler invocation:\u001b[39m\u001b[38;5;124m\"\u001b[39m \u001b[38;5;241m+\u001b[39m \u001b[38;5;124m\"\u001b[39m\u001b[38;5;124m \u001b[39m\u001b[38;5;124m\"\u001b[39m\u001b[38;5;241m.\u001b[39mjoin(cc_cmdline),\n\u001b[1;32m    209\u001b[0m       file\u001b[38;5;241m=\u001b[39msys\u001b[38;5;241m.\u001b[39mstderr)\n\u001b[0;32m--> 210\u001b[0m \u001b[38;5;28;01mraise\u001b[39;00m CompileError(\u001b[38;5;124m\"\u001b[39m\u001b[38;5;124mmodule compilation failed\u001b[39m\u001b[38;5;124m\"\u001b[39m)\n",
      "\u001b[0;31mCompileError\u001b[0m: module compilation failed"
     ]
    }
   ],
   "source": [
    "import numpy as np\n",
    "import devito as dv\n",
    "import sympy as sp\n",
    "import matplotlib.pyplot as plt\n",
    "\n",
    "class FSDomain(dv.SubDomain):\n",
    "    name = 'fsdomain'\n",
    "    \n",
    "    def __init__(self, nbl):\n",
    "        super().__init__()\n",
    "        self._nbl = nbl\n",
    "        \n",
    "    def define(self, dimensions):\n",
    "        return {dimensions[-1]: ('left', self.nbl)}\n",
    "    \n",
    "    @property\n",
    "    def nbl(self):\n",
    "        \"\"\"Number of boundary layers\"\"\"\n",
    "        return self._nbl\n",
    "    \n",
    "    \n",
    "class MainDomain(dv.SubDomain):\n",
    "    name = 'maindomain'\n",
    "    \n",
    "    def __init__(self, nbl):\n",
    "        super().__init__()\n",
    "        self._nbl = nbl\n",
    "        \n",
    "    def define(self, dimensions):\n",
    "        return {dimensions[-1]: ('middle', self.nbl, 0)}\n",
    "    \n",
    "    @property\n",
    "    def nbl(self):\n",
    "        \"\"\"Number of boundary layers\"\"\"\n",
    "        return self._nbl\n",
    "    \n",
    "    \n",
    "class ElasticModel:\n",
    "    \"\"\"\n",
    "    This is a class containing parameters and utilities for\n",
    "    an isotrophic elastic wave model. \n",
    "    \n",
    "    Parameters\n",
    "    ----------\n",
    "    vp : ndarray\n",
    "        p-wave velocity array\n",
    "    vs : ndarray\n",
    "        s-wave velocity array\n",
    "    ρ : ndarray\n",
    "        Density\n",
    "    spacing : tuple\n",
    "        Grid spacing. Default is 10.\n",
    "    origin : tuple\n",
    "        Grid origin. Default is zeros.\n",
    "    nbl : int\n",
    "        Number of boundary layers. Default is 10.\n",
    "    free_surface : bool\n",
    "        Use a free-surface. Default is False.\n",
    "    space_order : int\n",
    "        The order of the spatial discretisation. Default is 2.\n",
    "    \n",
    "    Attributes\n",
    "    ----------\n",
    "    grid : Grid\n",
    "        Model grid\n",
    "    τ : TensorTimeFunction\n",
    "        Stress tensor\n",
    "    v : VectorTimeFunction\n",
    "        Particle velocity \n",
    "    vp : Function\n",
    "        p-wave velocity\n",
    "    vs : Function\n",
    "        s-wave velocity\n",
    "    ρ : Function\n",
    "        Density\n",
    "    damp : Function\n",
    "        Damping mask\n",
    "    \"\"\"\n",
    "    def __init__(self, vp, vs, ρ, **kwargs):\n",
    "        \n",
    "        if vp.shape != vs.shape or vp.shape != ρ.shape:\n",
    "            raise ValueError(\"Arrays have mismatched shapes\")\n",
    "            \n",
    "        self._nbl = kwargs.get(\"nbl\", 10)\n",
    "        self._free_surface = kwargs.get(\"free_surface\", False)\n",
    "\n",
    "        if self.free_surface:\n",
    "            fs_domain = FSDomain(self.nbl)\n",
    "            main_domain = MainDomain(self.nbl)\n",
    "            subdomains = [fs_domain, main_domain]\n",
    "        else:\n",
    "            subdomains = []\n",
    "        spacing = kwargs.get(\"spacing\", 10.)\n",
    "        origin = kwargs.get(\"origin\", tuple([0.]*len(vp.shape)))\n",
    "        \n",
    "        shape = tuple([2*self.nbl + s for s in vp.shape])\n",
    "        print(spacing, shape)\n",
    "        extent = tuple([spacing*sha for sha in shape])\n",
    "        self._grid = dv.Grid(shape=shape, extent=extent, origin=origin,\n",
    "                             subdomains=subdomains)\n",
    "        \n",
    "        self._space_order = kwargs.get(\"space_order\", 2)\n",
    "        \n",
    "        self._initialise_functions()\n",
    "        self._fill_parameters(vp, vs, ρ)\n",
    "        \n",
    "        self._initialise_damping()\n",
    "        \n",
    "    def _initialise_functions(self):\n",
    "        \"\"\"Set up functions found in the equations\"\"\"\n",
    "        self._τ = dv.TensorTimeFunction(name='τ', grid=self.grid,\n",
    "                                        space_order=self.space_order,\n",
    "                                        time_order=1)\n",
    "        \n",
    "        self._v = dv.VectorTimeFunction(name='v', grid=self.grid,\n",
    "                                        space_order=self.space_order,\n",
    "                                        time_order=1)\n",
    "        \n",
    "        self._vp = dv.Function(name='vp', grid=self.grid,\n",
    "                               space_order=self.space_order)\n",
    "        \n",
    "        self._vs = dv.Function(name='vs', grid=self.grid,\n",
    "                               space_order=self.space_order)\n",
    "\n",
    "        self._ρ = dv.Function(name='ρ', grid=self.grid,\n",
    "                              space_order=self.space_order)\n",
    "        \n",
    "    def _fill_parameters(self, vp, vs, rho):\n",
    "        \"\"\"Fill the data of vp, vs, and rho from the supplied arrays\"\"\"\n",
    "        self.vp.data[:] = np.pad(vp, self.nbl, mode='edge')\n",
    "        self.vs.data[:] = np.pad(vs, self.nbl, mode='edge')\n",
    "        self.ρ.data[:] = np.pad(rho, self.nbl, mode='edge')\n",
    "        \n",
    "    def _initialise_damping(self):\n",
    "        \"\"\"\n",
    "        Set up the damping mask. Note that this will be a simple sponge\n",
    "        mask with linear tapers for this case.\n",
    "        \"\"\"\n",
    "        self._damp = dv.Function(name='damp', grid=self.grid,\n",
    "                                 space_order=self.space_order)\n",
    "        self.damp.data[:] = 1.\n",
    "        \n",
    "        eqs = []\n",
    "        for dim in self.grid.dimensions:\n",
    "            eqs.append(dv.Eq(self.damp, self.damp*(dv.Max(dim, self.nbl)/self.nbl)))\n",
    "            \n",
    "        op_damp = dv.Operator(eqs, name='init_damp')\n",
    "        op_damp.apply()\n",
    "            \n",
    "        plt.imshow(self.damp.data.T)\n",
    "        plt.colorbar()\n",
    "        plt.show()\n",
    "            \n",
    "            \n",
    "            \n",
    "        \n",
    "        \n",
    "\n",
    "    @property\n",
    "    def nbl(self):\n",
    "        \"\"\"Number of boundary layers\"\"\"\n",
    "        return self._nbl\n",
    "    \n",
    "    @property\n",
    "    def free_surface(self):\n",
    "        \"\"\"Use a free surface\"\"\"\n",
    "        return self._free_surface\n",
    "    \n",
    "    @property\n",
    "    def grid(self):\n",
    "        \"\"\"Finite difference grid \"\"\"\n",
    "        return self._grid \n",
    "    \n",
    "    @property\n",
    "    def space_order(self):\n",
    "        \"\"\"Order of the spatial discretisation\"\"\"\n",
    "        return self._space_order\n",
    "    \n",
    "    @property\n",
    "    def τ(self):\n",
    "        \"\"\"Stress tensor\"\"\"\n",
    "        return self._τ\n",
    "    \n",
    "    @property\n",
    "    def v(self):\n",
    "        \"\"\"Particle Velocity\"\"\"\n",
    "        return self._v\n",
    "\n",
    "    @property\n",
    "    def vp(self):\n",
    "        \"\"\"P-wave velocity\"\"\"\n",
    "        return self._vp\n",
    "\n",
    "    @property\n",
    "    def vs(self):\n",
    "        \"\"\"S-wave velocity\"\"\"\n",
    "        return self._vs\n",
    "    \n",
    "    @property\n",
    "    def ρ(self):\n",
    "        \"\"\"Density\"\"\"\n",
    "        return self._ρ\n",
    "    \n",
    "    @property\n",
    "    def damp(self):\n",
    "        \"\"\"Damping mask\"\"\"\n",
    "        return self._damp\n",
    "    \n",
    "    \n",
    "model = ElasticModel(np.random.rand(10, 10), np.random.rand(10, 10), np.random.rand(10, 10))"
   ]
  },
  {
   "cell_type": "code",
   "execution_count": null,
   "id": "e821ce01",
   "metadata": {},
   "outputs": [],
   "source": []
  }
 ],
 "metadata": {
  "kernelspec": {
   "display_name": "Python 3 (ipykernel)",
   "language": "python",
   "name": "python3"
  },
  "language_info": {
   "codemirror_mode": {
    "name": "ipython",
    "version": 3
   },
   "file_extension": ".py",
   "mimetype": "text/x-python",
   "name": "python",
   "nbconvert_exporter": "python",
   "pygments_lexer": "ipython3",
   "version": "3.9.0"
  }
 },
 "nbformat": 4,
 "nbformat_minor": 5
}
