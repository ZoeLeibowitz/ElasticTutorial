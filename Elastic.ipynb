{
 "cells": [
  {
   "cell_type": "markdown",
   "id": "79986697",
   "metadata": {},
   "source": [
    "# Isotropic elastic wave equation implementation on a staggered grid\n",
    "\n",
    "Some preamble here"
   ]
  },
  {
   "cell_type": "code",
   "execution_count": 1,
   "id": "495d5cc0",
   "metadata": {},
   "outputs": [],
   "source": [
    "import devito as dv"
   ]
  },
  {
   "cell_type": "code",
   "execution_count": 2,
   "id": "5589e8d2",
   "metadata": {},
   "outputs": [],
   "source": [
    "# Create a 3D grid\n",
    "shape = (101, 101, 101)\n",
    "extent = (1., 1., 1.)  # this is km\n",
    "\n",
    "grid = dv.Grid(shape=shape, extent=extent)"
   ]
  },
  {
   "cell_type": "markdown",
   "id": "6157b113",
   "metadata": {},
   "source": [
    "# Vectorial form\n",
    "\n",
    "One of the advantages of Devito is the high level symbolic API. This allows for straight forward generalisation of expressions between 2D and 3D. \n",
    "\n",
    "\n",
    "Leveraging the symbolic algebra capabilities of Devito enables concise, flexible specifications of equations. In this case, it's desirable to represent the isotropic elastic system of equations in the following form:\n",
    "\n",
    "\n",
    "\\begin{cases}\n",
    "&\\frac{dv}{dt} = \\underline{\\nabla} . \\tau \\\\\n",
    "&\\frac{d \\tau}{dt} = \\lambda \\text{diag}(\\underline{\\nabla} . \\underline{v}) + \\mu (\\underline{\\nabla} \\underline{v} + (\\underline{\\nabla} \\underline{v})^T)\n",
    "\\end{cases}\n",
    "\n",
    "\n",
    "where in 3D, $\\underline{v}$ is a vector valued function:\n",
    "\n",
    "$\\underline{v}(t, x, y, z) = (v_x(t, x, y, z), v_y(t, x, y, z), v_z(t, x, y, z))$\n",
    "\n",
    "and the stress $\\tau$ is a symmetric tensor valued function:\n",
    "\n",
    "\n",
    "$\\tau(t, x, y, z) = \\begin{bmatrix}\\tau_{xx}(t, x, y, z) & \\tau_{xy}(t, x, y, z)  & \\tau_{xz}(t, x, y, z) \\\\\\tau_{yx}(t, x, y, z) & \\tau_{yy}(t, x, y, z) & \\tau_{yz}(t, x, y, z)  \\\\\\tau_{zx}(t, x, y, z) & \\tau_{zy}(t, x, y, z) & \\tau_{zz}(t, x, y, z)\\end{bmatrix}$\n",
    "\n",
    "\n",
    "We show in the following how to setup the elastic wave-equation form Devito's high-level tensorial types."
   ]
  },
  {
   "cell_type": "markdown",
   "id": "5ad6bec0",
   "metadata": {},
   "source": [
    "As $\\underline{v}$ is a vector which varies in time, we represent it as a `VectorTimeFunction`."
   ]
  },
  {
   "cell_type": "code",
   "execution_count": 3,
   "id": "ea3d543e",
   "metadata": {},
   "outputs": [
    {
     "data": {
      "text/latex": [
       "$\\displaystyle \\left[\\begin{matrix}v_{x}{\\left(t,x + \\frac{h_{x}}{2},y,z \\right)}\\\\v_{y}{\\left(t,x,y + \\frac{h_{y}}{2},z \\right)}\\\\v_{z}{\\left(t,x,y,z + \\frac{h_{z}}{2} \\right)}\\end{matrix}\\right]$"
      ],
      "text/plain": [
       "Vector(v_x(t, x + h_x/2, y, z), v_y(t, x, y + h_y/2, z), v_z(t, x, y, z + h_z/2))"
      ]
     },
     "execution_count": 3,
     "metadata": {},
     "output_type": "execute_result"
    }
   ],
   "source": [
    "so = 4\n",
    "to = 1\n",
    "\n",
    "v = dv.VectorTimeFunction(name='v', grid=grid, space_order=so, time_order=to)\n",
    "v"
   ]
  },
  {
   "cell_type": "markdown",
   "id": "06eef0f2",
   "metadata": {},
   "source": [
    "We can see that staggering is applied by default.\n",
    "\n",
    "There is also a `TensorTimeFunction` to store $\\tau$:"
   ]
  },
  {
   "cell_type": "code",
   "execution_count": 4,
   "id": "32cbbc9e",
   "metadata": {},
   "outputs": [
    {
     "data": {
      "text/latex": [
       "$\\displaystyle \\left[\\begin{matrix}\\tau_{xx}{\\left(t,x,y,z \\right)} & \\tau_{xy}{\\left(t,x + \\frac{h_{x}}{2},y + \\frac{h_{y}}{2},z \\right)} & \\tau_{xz}{\\left(t,x + \\frac{h_{x}}{2},y,z + \\frac{h_{z}}{2} \\right)}\\\\\\tau_{xy}{\\left(t,x + \\frac{h_{x}}{2},y + \\frac{h_{y}}{2},z \\right)} & \\tau_{yy}{\\left(t,x,y,z \\right)} & \\tau_{yz}{\\left(t,x,y + \\frac{h_{y}}{2},z + \\frac{h_{z}}{2} \\right)}\\\\\\tau_{xz}{\\left(t,x + \\frac{h_{x}}{2},y,z + \\frac{h_{z}}{2} \\right)} & \\tau_{yz}{\\left(t,x,y + \\frac{h_{y}}{2},z + \\frac{h_{z}}{2} \\right)} & \\tau_{zz}{\\left(t,x,y,z \\right)}\\end{matrix}\\right]$"
      ],
      "text/plain": [
       "Matrix([\n",
       "[                tau_xx(t, x, y, z), tau_xy(t, x + h_x/2, y + h_y/2, z), tau_xz(t, x + h_x/2, y, z + h_z/2)],\n",
       "[tau_xy(t, x + h_x/2, y + h_y/2, z),                 tau_yy(t, x, y, z), tau_yz(t, x, y + h_y/2, z + h_z/2)],\n",
       "[tau_xz(t, x + h_x/2, y, z + h_z/2), tau_yz(t, x, y + h_y/2, z + h_z/2),                 tau_zz(t, x, y, z)]])"
      ]
     },
     "execution_count": 4,
     "metadata": {},
     "output_type": "execute_result"
    }
   ],
   "source": [
    "τ = dv.TensorTimeFunction(name='tau', grid=grid, space_order=so, time_order=to)\n",
    "τ"
   ]
  },
  {
   "cell_type": "markdown",
   "id": "3abdbed2",
   "metadata": {},
   "source": [
    "Note that staggering is also applied here by default. Furthermore, this tensor is symmetrical:"
   ]
  },
  {
   "cell_type": "code",
   "execution_count": 5,
   "id": "4cfcf9dd",
   "metadata": {},
   "outputs": [
    {
     "data": {
      "text/plain": [
       "True"
      ]
     },
     "execution_count": 5,
     "metadata": {},
     "output_type": "execute_result"
    }
   ],
   "source": [
    "τ[0, 1] is τ[1, 0]"
   ]
  },
  {
   "cell_type": "markdown",
   "id": "96cabd8a",
   "metadata": {},
   "source": [
    "Let's define our parameters. Whilst these will be constant for now, it is trivial to make them vary in space (as will be shown later). "
   ]
  },
  {
   "cell_type": "code",
   "execution_count": 6,
   "id": "6b8bb46a",
   "metadata": {},
   "outputs": [],
   "source": [
    "vs = 1.5  # s-wave velocity in km/s\n",
    "vp = 2.5  # p-wave velocity in km/s\n",
    "ρ = 3.  # density in tons/m^3\n",
    "\n",
    "b = 1/ρ\n",
    "μ = vs**2 * ρ\n",
    "λ = (vp**2 * ρ) - 2*μ"
   ]
  },
  {
   "cell_type": "markdown",
   "id": "3048bfcb",
   "metadata": {},
   "source": [
    "With this, we can write our equations in the following way:"
   ]
  },
  {
   "cell_type": "markdown",
   "id": "7a581b4c",
   "metadata": {},
   "source": [
    "Firstly, for the velocity equation: $\\frac{dv}{dt} = \\underline{\\nabla} . \\tau$, we formulate it as follows:"
   ]
  },
  {
   "cell_type": "code",
   "execution_count": 7,
   "id": "a2f54b62",
   "metadata": {},
   "outputs": [
    {
     "data": {
      "text/latex": [
       "$\\displaystyle \\left[\\begin{matrix}- 3.0 \\frac{\\partial}{\\partial x} \\tau_{xx}{\\left(t,x,y,z \\right)} - 3.0 \\frac{\\partial}{\\partial y} \\tau_{xy}{\\left(t,x + \\frac{h_{x}}{2},y + \\frac{h_{y}}{2},z \\right)} - 3.0 \\frac{\\partial}{\\partial z} \\tau_{xz}{\\left(t,x + \\frac{h_{x}}{2},y,z + \\frac{h_{z}}{2} \\right)} + \\frac{\\partial}{\\partial t} v_{x}{\\left(t,x + \\frac{h_{x}}{2},y,z \\right)}\\\\- 3.0 \\frac{\\partial}{\\partial x} \\tau_{xy}{\\left(t,x + \\frac{h_{x}}{2},y + \\frac{h_{y}}{2},z \\right)} - 3.0 \\frac{\\partial}{\\partial y} \\tau_{yy}{\\left(t,x,y,z \\right)} - 3.0 \\frac{\\partial}{\\partial z} \\tau_{yz}{\\left(t,x,y + \\frac{h_{y}}{2},z + \\frac{h_{z}}{2} \\right)} + \\frac{\\partial}{\\partial t} v_{y}{\\left(t,x,y + \\frac{h_{y}}{2},z \\right)}\\\\- 3.0 \\frac{\\partial}{\\partial x} \\tau_{xz}{\\left(t,x + \\frac{h_{x}}{2},y,z + \\frac{h_{z}}{2} \\right)} - 3.0 \\frac{\\partial}{\\partial y} \\tau_{yz}{\\left(t,x,y + \\frac{h_{y}}{2},z + \\frac{h_{z}}{2} \\right)} - 3.0 \\frac{\\partial}{\\partial z} \\tau_{zz}{\\left(t,x,y,z \\right)} + \\frac{\\partial}{\\partial t} v_{z}{\\left(t,x,y,z + \\frac{h_{z}}{2} \\right)}\\end{matrix}\\right]$"
      ],
      "text/plain": [
       "Vector(-3.0*Derivative(tau_xx(t, x, y, z), x) - 3.0*Derivative(tau_xy(t, x + h_x/2, y + h_y/2, z), y) - 3.0*Derivative(tau_xz(t, x + h_x/2, y, z + h_z/2), z) + Derivative(v_x(t, x + h_x/2, y, z), t), -3.0*Derivative(tau_xy(t, x + h_x/2, y + h_y/2, z), x) - 3.0*Derivative(tau_yy(t, x, y, z), y) - 3.0*Derivative(tau_yz(t, x, y + h_y/2, z + h_z/2), z) + Derivative(v_y(t, x, y + h_y/2, z), t), -3.0*Derivative(tau_xz(t, x + h_x/2, y, z + h_z/2), x) - 3.0*Derivative(tau_yz(t, x, y + h_y/2, z + h_z/2), y) - 3.0*Derivative(tau_zz(t, x, y, z), z) + Derivative(v_z(t, x, y, z + h_z/2), t))"
      ]
     },
     "execution_count": 7,
     "metadata": {},
     "output_type": "execute_result"
    }
   ],
   "source": [
    "pde_v = v.dt - ρ * dv.div(τ)\n",
    "pde_v"
   ]
  },
  {
   "cell_type": "markdown",
   "id": "bb10e286",
   "metadata": {},
   "source": [
    "And for the stress equation: $\\frac{d \\tau}{dt} = \\lambda \\text{diag}(\\underline{\\nabla} . \\underline{v}) + \\mu (\\underline{\\nabla} \\underline{v} + (\\underline{\\nabla} \\underline{v})^T)$:"
   ]
  },
  {
   "cell_type": "code",
   "execution_count": 8,
   "id": "0e4ff6c3",
   "metadata": {},
   "outputs": [],
   "source": [
    "pde_tau = τ.dt - λ * dv.diag(dv.div(v.forward)) - μ * (dv.grad(v.forward) + dv.grad(v.forward).T)\n",
    "# pde_tau  # uncomment to print (may go off of page)\n"
   ]
  },
  {
   "cell_type": "markdown",
   "id": "ca0f1b87",
   "metadata": {},
   "source": []
  },
  {
   "cell_type": "code",
   "execution_count": 9,
   "id": "de52f539",
   "metadata": {},
   "outputs": [],
   "source": [
    "# Time update \n",
    "u_v = dv.Eq(v.forward, dv.solve(pde_v, v.forward))\n",
    "u_t = dv.Eq(τ.forward,  dv.solve(pde_tau, τ.forward))"
   ]
  },
  {
   "cell_type": "markdown",
   "id": "b35d42de",
   "metadata": {},
   "source": [
    "We will need to create a source to inject into this field. For this we will import a `RickerSource` from the examples. Note that this is a thin wrapper around `SparseTimeFunction` with a prefilled time series."
   ]
  },
  {
   "cell_type": "code",
   "execution_count": 10,
   "id": "a58c267b",
   "metadata": {},
   "outputs": [],
   "source": [
    "from examples.seismic import TimeAxis, RickerSource\n",
    "\n",
    "t0, tn = 0., 40.\n",
    "dt = 0.5*min(grid.spacing)/vs  # Courant number is 0.5\n",
    "time_range = TimeAxis(start=t0, stop=tn, step=dt)\n",
    "\n",
    "src = RickerSource(name='src', grid=grid, f0=0.010, time_range=time_range)\n",
    "src.coordinates.data[:] = 0.5\n",
    "\n",
    "# The source injection term\n",
    "src_xx = src.inject(field=τ.forward[0, 0], expr=dt*src)\n",
    "src_yy = src.inject(field=τ.forward[1, 1], expr=dt*src)\n",
    "src_zz = src.inject(field=τ.forward[2, 2], expr=dt*src)"
   ]
  },
  {
   "cell_type": "markdown",
   "id": "03459f09",
   "metadata": {},
   "source": [
    "Now we create a Devito O"
   ]
  },
  {
   "cell_type": "code",
   "execution_count": 11,
   "id": "c53aee69",
   "metadata": {},
   "outputs": [
    {
     "ename": "OSError",
     "evalue": "dlopen(/var/folders/b1/3bsk_dln7nsg9g6f59jch2nw0000gn/T/devito-jitcache-uid501/6510adec96e138262f38f34ae71439d77fc15a3f.dylib, 0x0006): tried: '/var/folders/b1/3bsk_dln7nsg9g6f59jch2nw0000gn/T/devito-jitcache-uid501/6510adec96e138262f38f34ae71439d77fc15a3f.dylib' (mach-o file, but is an incompatible architecture (have 'arm64', need 'x86_64')), '/System/Volumes/Preboot/Cryptexes/OS/var/folders/b1/3bsk_dln7nsg9g6f59jch2nw0000gn/T/devito-jitcache-uid501/6510adec96e138262f38f34ae71439d77fc15a3f.dylib' (no such file), '/var/folders/b1/3bsk_dln7nsg9g6f59jch2nw0000gn/T/devito-jitcache-uid501/6510adec96e138262f38f34ae71439d77fc15a3f.dylib' (mach-o file, but is an incompatible architecture (have 'arm64', need 'x86_64')), '/private/var/folders/b1/3bsk_dln7nsg9g6f59jch2nw0000gn/T/devito-jitcache-uid501/6510adec96e138262f38f34ae71439d77fc15a3f.dylib' (mach-o file, but is an incompatible architecture (have 'arm64', need 'x86_64')), '/System/Volumes/Preboot/Cryptexes/OS/private/var/folders/b1/3bsk_dln7nsg9g6f59jch2nw0000gn/T/devito-jitcache-uid501/6510adec96e138262f38f34ae71439d77fc15a3f.dylib' (no such file), '/private/var/folders/b1/3bsk_dln7nsg9g6f59jch2nw0000gn/T/devito-jitcache-uid501/6510adec96e138262f38f34ae71439d77fc15a3f.dylib' (mach-o file, but is an incompatible architecture (have 'arm64', need 'x86_64'))",
     "output_type": "error",
     "traceback": [
      "\u001b[0;31m---------------------------------------------------------------------------\u001b[0m",
      "\u001b[0;31mOSError\u001b[0m                                   Traceback (most recent call last)",
      "Cell \u001b[0;32mIn[11], line 2\u001b[0m\n\u001b[1;32m      1\u001b[0m op \u001b[38;5;241m=\u001b[39m dv\u001b[38;5;241m.\u001b[39mOperator([u_v, u_t] \u001b[38;5;241m+\u001b[39m src_xx \u001b[38;5;241m+\u001b[39m src_yy \u001b[38;5;241m+\u001b[39m src_zz)\n\u001b[0;32m----> 2\u001b[0m \u001b[43mop\u001b[49m\u001b[43m(\u001b[49m\u001b[43mdt\u001b[49m\u001b[38;5;241;43m=\u001b[39;49m\u001b[43mdt\u001b[49m\u001b[43m)\u001b[49m\n",
      "File \u001b[0;32m~/opt/anaconda3/envs/devito/lib/python3.9/site-packages/devito/operator/operator.py:733\u001b[0m, in \u001b[0;36mOperator.__call__\u001b[0;34m(self, **kwargs)\u001b[0m\n\u001b[1;32m    732\u001b[0m \u001b[38;5;28;01mdef\u001b[39;00m \u001b[38;5;21m__call__\u001b[39m(\u001b[38;5;28mself\u001b[39m, \u001b[38;5;241m*\u001b[39m\u001b[38;5;241m*\u001b[39mkwargs):\n\u001b[0;32m--> 733\u001b[0m     \u001b[38;5;28;01mreturn\u001b[39;00m \u001b[38;5;28;43mself\u001b[39;49m\u001b[38;5;241;43m.\u001b[39;49m\u001b[43mapply\u001b[49m\u001b[43m(\u001b[49m\u001b[38;5;241;43m*\u001b[39;49m\u001b[38;5;241;43m*\u001b[39;49m\u001b[43mkwargs\u001b[49m\u001b[43m)\u001b[49m\n",
      "File \u001b[0;32m~/opt/anaconda3/envs/devito/lib/python3.9/site-packages/devito/operator/operator.py:804\u001b[0m, in \u001b[0;36mOperator.apply\u001b[0;34m(self, **kwargs)\u001b[0m\n\u001b[1;32m    802\u001b[0m arg_values \u001b[38;5;241m=\u001b[39m [args[p\u001b[38;5;241m.\u001b[39mname] \u001b[38;5;28;01mfor\u001b[39;00m p \u001b[38;5;129;01min\u001b[39;00m \u001b[38;5;28mself\u001b[39m\u001b[38;5;241m.\u001b[39mparameters]\n\u001b[1;32m    803\u001b[0m \u001b[38;5;28;01mtry\u001b[39;00m:\n\u001b[0;32m--> 804\u001b[0m     cfunction \u001b[38;5;241m=\u001b[39m \u001b[38;5;28;43mself\u001b[39;49m\u001b[38;5;241;43m.\u001b[39;49m\u001b[43mcfunction\u001b[49m\n\u001b[1;32m    805\u001b[0m     \u001b[38;5;28;01mwith\u001b[39;00m \u001b[38;5;28mself\u001b[39m\u001b[38;5;241m.\u001b[39m_profiler\u001b[38;5;241m.\u001b[39mtimer_on(\u001b[38;5;124m'\u001b[39m\u001b[38;5;124mapply\u001b[39m\u001b[38;5;124m'\u001b[39m, comm\u001b[38;5;241m=\u001b[39margs\u001b[38;5;241m.\u001b[39mcomm):\n\u001b[1;32m    806\u001b[0m         cfunction(\u001b[38;5;241m*\u001b[39marg_values)\n",
      "File \u001b[0;32m~/opt/anaconda3/envs/devito/lib/python3.9/site-packages/devito/operator/operator.py:687\u001b[0m, in \u001b[0;36mOperator.cfunction\u001b[0;34m(self)\u001b[0m\n\u001b[1;32m    685\u001b[0m \u001b[38;5;28;01mif\u001b[39;00m \u001b[38;5;28mself\u001b[39m\u001b[38;5;241m.\u001b[39m_lib \u001b[38;5;129;01mis\u001b[39;00m \u001b[38;5;28;01mNone\u001b[39;00m:\n\u001b[1;32m    686\u001b[0m     \u001b[38;5;28mself\u001b[39m\u001b[38;5;241m.\u001b[39m_jit_compile()\n\u001b[0;32m--> 687\u001b[0m     \u001b[38;5;28mself\u001b[39m\u001b[38;5;241m.\u001b[39m_lib \u001b[38;5;241m=\u001b[39m \u001b[38;5;28;43mself\u001b[39;49m\u001b[38;5;241;43m.\u001b[39;49m\u001b[43m_compiler\u001b[49m\u001b[38;5;241;43m.\u001b[39;49m\u001b[43mload\u001b[49m\u001b[43m(\u001b[49m\u001b[38;5;28;43mself\u001b[39;49m\u001b[38;5;241;43m.\u001b[39;49m\u001b[43m_soname\u001b[49m\u001b[43m)\u001b[49m\n\u001b[1;32m    688\u001b[0m     \u001b[38;5;28mself\u001b[39m\u001b[38;5;241m.\u001b[39m_lib\u001b[38;5;241m.\u001b[39mname \u001b[38;5;241m=\u001b[39m \u001b[38;5;28mself\u001b[39m\u001b[38;5;241m.\u001b[39m_soname\n\u001b[1;32m    690\u001b[0m \u001b[38;5;28;01mif\u001b[39;00m \u001b[38;5;28mself\u001b[39m\u001b[38;5;241m.\u001b[39m_cfunction \u001b[38;5;129;01mis\u001b[39;00m \u001b[38;5;28;01mNone\u001b[39;00m:\n",
      "File \u001b[0;32m~/opt/anaconda3/envs/devito/lib/python3.9/site-packages/devito/arch/compiler.py:238\u001b[0m, in \u001b[0;36mCompiler.load\u001b[0;34m(self, soname)\u001b[0m\n\u001b[1;32m    224\u001b[0m \u001b[38;5;28;01mdef\u001b[39;00m \u001b[38;5;21mload\u001b[39m(\u001b[38;5;28mself\u001b[39m, soname):\n\u001b[1;32m    225\u001b[0m \u001b[38;5;250m    \u001b[39m\u001b[38;5;124;03m\"\"\"\u001b[39;00m\n\u001b[1;32m    226\u001b[0m \u001b[38;5;124;03m    Load a compiled shared object.\u001b[39;00m\n\u001b[1;32m    227\u001b[0m \n\u001b[0;32m   (...)\u001b[0m\n\u001b[1;32m    236\u001b[0m \u001b[38;5;124;03m        The loaded shared object.\u001b[39;00m\n\u001b[1;32m    237\u001b[0m \u001b[38;5;124;03m    \"\"\"\u001b[39;00m\n\u001b[0;32m--> 238\u001b[0m     \u001b[38;5;28;01mreturn\u001b[39;00m \u001b[43mnpct\u001b[49m\u001b[38;5;241;43m.\u001b[39;49m\u001b[43mload_library\u001b[49m\u001b[43m(\u001b[49m\u001b[38;5;28;43mstr\u001b[39;49m\u001b[43m(\u001b[49m\u001b[38;5;28;43mself\u001b[39;49m\u001b[38;5;241;43m.\u001b[39;49m\u001b[43mget_jit_dir\u001b[49m\u001b[43m(\u001b[49m\u001b[43m)\u001b[49m\u001b[38;5;241;43m.\u001b[39;49m\u001b[43mjoinpath\u001b[49m\u001b[43m(\u001b[49m\u001b[43msoname\u001b[49m\u001b[43m)\u001b[49m\u001b[43m)\u001b[49m\u001b[43m,\u001b[49m\u001b[43m \u001b[49m\u001b[38;5;124;43m'\u001b[39;49m\u001b[38;5;124;43m.\u001b[39;49m\u001b[38;5;124;43m'\u001b[39;49m\u001b[43m)\u001b[49m\n",
      "File \u001b[0;32m~/opt/anaconda3/envs/devito/lib/python3.9/site-packages/numpy/ctypeslib.py:158\u001b[0m, in \u001b[0;36mload_library\u001b[0;34m(libname, loader_path)\u001b[0m\n\u001b[1;32m    156\u001b[0m \u001b[38;5;28;01mif\u001b[39;00m os\u001b[38;5;241m.\u001b[39mpath\u001b[38;5;241m.\u001b[39mexists(libpath):\n\u001b[1;32m    157\u001b[0m     \u001b[38;5;28;01mtry\u001b[39;00m:\n\u001b[0;32m--> 158\u001b[0m         \u001b[38;5;28;01mreturn\u001b[39;00m \u001b[43mctypes\u001b[49m\u001b[38;5;241;43m.\u001b[39;49m\u001b[43mcdll\u001b[49m\u001b[43m[\u001b[49m\u001b[43mlibpath\u001b[49m\u001b[43m]\u001b[49m\n\u001b[1;32m    159\u001b[0m     \u001b[38;5;28;01mexcept\u001b[39;00m \u001b[38;5;167;01mOSError\u001b[39;00m:\n\u001b[1;32m    160\u001b[0m         \u001b[38;5;66;03m## defective lib file\u001b[39;00m\n\u001b[1;32m    161\u001b[0m         \u001b[38;5;28;01mraise\u001b[39;00m\n",
      "File \u001b[0;32m~/opt/anaconda3/envs/devito/lib/python3.9/ctypes/__init__.py:457\u001b[0m, in \u001b[0;36mLibraryLoader.__getitem__\u001b[0;34m(self, name)\u001b[0m\n\u001b[1;32m    456\u001b[0m \u001b[38;5;28;01mdef\u001b[39;00m \u001b[38;5;21m__getitem__\u001b[39m(\u001b[38;5;28mself\u001b[39m, name):\n\u001b[0;32m--> 457\u001b[0m     \u001b[38;5;28;01mreturn\u001b[39;00m \u001b[38;5;28;43mgetattr\u001b[39;49m\u001b[43m(\u001b[49m\u001b[38;5;28;43mself\u001b[39;49m\u001b[43m,\u001b[49m\u001b[43m \u001b[49m\u001b[43mname\u001b[49m\u001b[43m)\u001b[49m\n",
      "File \u001b[0;32m~/opt/anaconda3/envs/devito/lib/python3.9/ctypes/__init__.py:452\u001b[0m, in \u001b[0;36mLibraryLoader.__getattr__\u001b[0;34m(self, name)\u001b[0m\n\u001b[1;32m    450\u001b[0m \u001b[38;5;28;01mif\u001b[39;00m name[\u001b[38;5;241m0\u001b[39m] \u001b[38;5;241m==\u001b[39m \u001b[38;5;124m'\u001b[39m\u001b[38;5;124m_\u001b[39m\u001b[38;5;124m'\u001b[39m:\n\u001b[1;32m    451\u001b[0m     \u001b[38;5;28;01mraise\u001b[39;00m \u001b[38;5;167;01mAttributeError\u001b[39;00m(name)\n\u001b[0;32m--> 452\u001b[0m dll \u001b[38;5;241m=\u001b[39m \u001b[38;5;28;43mself\u001b[39;49m\u001b[38;5;241;43m.\u001b[39;49m\u001b[43m_dlltype\u001b[49m\u001b[43m(\u001b[49m\u001b[43mname\u001b[49m\u001b[43m)\u001b[49m\n\u001b[1;32m    453\u001b[0m \u001b[38;5;28msetattr\u001b[39m(\u001b[38;5;28mself\u001b[39m, name, dll)\n\u001b[1;32m    454\u001b[0m \u001b[38;5;28;01mreturn\u001b[39;00m dll\n",
      "File \u001b[0;32m~/opt/anaconda3/envs/devito/lib/python3.9/ctypes/__init__.py:382\u001b[0m, in \u001b[0;36mCDLL.__init__\u001b[0;34m(self, name, mode, handle, use_errno, use_last_error, winmode)\u001b[0m\n\u001b[1;32m    379\u001b[0m \u001b[38;5;28mself\u001b[39m\u001b[38;5;241m.\u001b[39m_FuncPtr \u001b[38;5;241m=\u001b[39m _FuncPtr\n\u001b[1;32m    381\u001b[0m \u001b[38;5;28;01mif\u001b[39;00m handle \u001b[38;5;129;01mis\u001b[39;00m \u001b[38;5;28;01mNone\u001b[39;00m:\n\u001b[0;32m--> 382\u001b[0m     \u001b[38;5;28mself\u001b[39m\u001b[38;5;241m.\u001b[39m_handle \u001b[38;5;241m=\u001b[39m \u001b[43m_dlopen\u001b[49m\u001b[43m(\u001b[49m\u001b[38;5;28;43mself\u001b[39;49m\u001b[38;5;241;43m.\u001b[39;49m\u001b[43m_name\u001b[49m\u001b[43m,\u001b[49m\u001b[43m \u001b[49m\u001b[43mmode\u001b[49m\u001b[43m)\u001b[49m\n\u001b[1;32m    383\u001b[0m \u001b[38;5;28;01melse\u001b[39;00m:\n\u001b[1;32m    384\u001b[0m     \u001b[38;5;28mself\u001b[39m\u001b[38;5;241m.\u001b[39m_handle \u001b[38;5;241m=\u001b[39m handle\n",
      "\u001b[0;31mOSError\u001b[0m: dlopen(/var/folders/b1/3bsk_dln7nsg9g6f59jch2nw0000gn/T/devito-jitcache-uid501/6510adec96e138262f38f34ae71439d77fc15a3f.dylib, 0x0006): tried: '/var/folders/b1/3bsk_dln7nsg9g6f59jch2nw0000gn/T/devito-jitcache-uid501/6510adec96e138262f38f34ae71439d77fc15a3f.dylib' (mach-o file, but is an incompatible architecture (have 'arm64', need 'x86_64')), '/System/Volumes/Preboot/Cryptexes/OS/var/folders/b1/3bsk_dln7nsg9g6f59jch2nw0000gn/T/devito-jitcache-uid501/6510adec96e138262f38f34ae71439d77fc15a3f.dylib' (no such file), '/var/folders/b1/3bsk_dln7nsg9g6f59jch2nw0000gn/T/devito-jitcache-uid501/6510adec96e138262f38f34ae71439d77fc15a3f.dylib' (mach-o file, but is an incompatible architecture (have 'arm64', need 'x86_64')), '/private/var/folders/b1/3bsk_dln7nsg9g6f59jch2nw0000gn/T/devito-jitcache-uid501/6510adec96e138262f38f34ae71439d77fc15a3f.dylib' (mach-o file, but is an incompatible architecture (have 'arm64', need 'x86_64')), '/System/Volumes/Preboot/Cryptexes/OS/private/var/folders/b1/3bsk_dln7nsg9g6f59jch2nw0000gn/T/devito-jitcache-uid501/6510adec96e138262f38f34ae71439d77fc15a3f.dylib' (no such file), '/private/var/folders/b1/3bsk_dln7nsg9g6f59jch2nw0000gn/T/devito-jitcache-uid501/6510adec96e138262f38f34ae71439d77fc15a3f.dylib' (mach-o file, but is an incompatible architecture (have 'arm64', need 'x86_64'))"
     ]
    }
   ],
   "source": [
    "op = dv.Operator([u_v, u_t] + src_xx + src_yy + src_zz)\n",
    "op(dt=dt)"
   ]
  },
  {
   "cell_type": "code",
   "execution_count": null,
   "id": "f56440b9",
   "metadata": {},
   "outputs": [],
   "source": []
  }
 ],
 "metadata": {
  "kernelspec": {
   "display_name": "Python 3 (ipykernel)",
   "language": "python",
   "name": "python3"
  },
  "language_info": {
   "codemirror_mode": {
    "name": "ipython",
    "version": 3
   },
   "file_extension": ".py",
   "mimetype": "text/x-python",
   "name": "python",
   "nbconvert_exporter": "python",
   "pygments_lexer": "ipython3",
   "version": "3.9.0"
  }
 },
 "nbformat": 4,
 "nbformat_minor": 5
}
