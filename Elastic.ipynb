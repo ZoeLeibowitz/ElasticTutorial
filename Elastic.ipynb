{
 "cells": [
  {
   "cell_type": "markdown",
   "id": "79986697",
   "metadata": {},
   "source": [
    "# Isotropic elastic wave equation implementation on a staggered grid\n"
   ]
  },
  {
   "cell_type": "code",
   "execution_count": null,
   "id": "495d5cc0",
   "metadata": {},
   "outputs": [],
   "source": [
    "import devito as dv"
   ]
  },
  {
   "cell_type": "code",
   "execution_count": null,
   "id": "5589e8d2",
   "metadata": {},
   "outputs": [],
   "source": [
    "# Create a 3D grid\n",
    "shape = (51, 51, 51)\n",
    "extent = (500., 500., 500.)  # this is in metres\n",
    "grid = dv.Grid(shape=shape, extent=extent)"
   ]
  },
  {
   "cell_type": "markdown",
   "id": "6157b113",
   "metadata": {},
   "source": [
    "# Vectorial form\n",
    "\n",
    "One of the advantages of Devito is the high level symbolic API. This allows for straight forward generalisation of expressions between 2D and 3D. \n",
    "\n",
    "\n",
    "Leveraging the symbolic algebra capabilities of Devito enables concise, flexible specifications of equations. In this case, it's desirable to represent the isotropic elastic system of equations in the following form:\n",
    "\n",
    "\n",
    "\\begin{cases}\n",
    "&\\frac{dv}{dt} = \\underline{\\nabla} . \\tau \\\\\n",
    "&\\frac{d \\tau}{dt} = \\lambda \\text{diag}(\\underline{\\nabla} . \\underline{v}) + \\mu (\\underline{\\nabla} \\underline{v} + (\\underline{\\nabla} \\underline{v})^T)\n",
    "\\end{cases}\n",
    "\n",
    "\n",
    "where in 3D, $\\underline{v}$ is a vector valued function:\n",
    "\n",
    "$\\underline{v}(t, x, y, z) = (v_x(t, x, y, z), v_y(t, x, y, z), v_z(t, x, y, z))$\n",
    "\n",
    "and the stress $\\tau$ is a symmetric tensor valued function:\n",
    "\n",
    "\n",
    "$\\tau(t, x, y, z) = \\begin{bmatrix}\\tau_{xx}(t, x, y, z) & \\tau_{xy}(t, x, y, z)  & \\tau_{xz}(t, x, y, z) \\\\\\tau_{yx}(t, x, y, z) & \\tau_{yy}(t, x, y, z) & \\tau_{yz}(t, x, y, z)  \\\\\\tau_{zx}(t, x, y, z) & \\tau_{zy}(t, x, y, z) & \\tau_{zz}(t, x, y, z)\\end{bmatrix}$\n",
    "\n",
    "\n",
    "We show in the following how to setup the elastic wave-equation form Devito's high-level tensorial types."
   ]
  },
  {
   "cell_type": "markdown",
   "id": "5ad6bec0",
   "metadata": {},
   "source": [
    "As $\\underline{v}$ is a vector which varies in time, we represent it as a `VectorTimeFunction`."
   ]
  },
  {
   "cell_type": "code",
   "execution_count": null,
   "id": "ea3d543e",
   "metadata": {},
   "outputs": [],
   "source": [
    "so = 4\n",
    "to = 1\n",
    "\n",
    "v = dv.VectorTimeFunction(name='v', grid=grid, space_order=so, time_order=to)\n",
    "v"
   ]
  },
  {
   "cell_type": "markdown",
   "id": "06eef0f2",
   "metadata": {},
   "source": [
    "We can see that staggering is applied by default.\n",
    "\n",
    "There is also a `TensorTimeFunction` to store $\\tau$:"
   ]
  },
  {
   "cell_type": "code",
   "execution_count": null,
   "id": "32cbbc9e",
   "metadata": {},
   "outputs": [],
   "source": [
    "τ = dv.TensorTimeFunction(name='tau', grid=grid, space_order=so, time_order=to)\n",
    "τ"
   ]
  },
  {
   "cell_type": "markdown",
   "id": "3abdbed2",
   "metadata": {},
   "source": [
    "Note that staggering is also applied here by default. Furthermore, this tensor is symmetrical:"
   ]
  },
  {
   "cell_type": "code",
   "execution_count": null,
   "id": "4cfcf9dd",
   "metadata": {},
   "outputs": [],
   "source": [
    "τ[0, 1] is τ[1, 0]"
   ]
  },
  {
   "cell_type": "markdown",
   "id": "96cabd8a",
   "metadata": {},
   "source": [
    "Let's define our parameters. Whilst these will be constant for now, it is trivial to make them vary in space (as will be shown later). "
   ]
  },
  {
   "cell_type": "code",
   "execution_count": null,
   "id": "6b8bb46a",
   "metadata": {},
   "outputs": [],
   "source": [
    "vs = 1500.  # s-wave velocity in m/s\n",
    "vp = 2500.  # p-wave velocity in m/s\n",
    "ρ = 3000.  # density in kg/m^3\n",
    "\n",
    "b = 1/ρ\n",
    "μ = vs**2/ρ\n",
    "λ = (vp**2/ρ) - 2*μ"
   ]
  },
  {
   "cell_type": "markdown",
   "id": "3048bfcb",
   "metadata": {},
   "source": [
    "With this, we can write our equations in the following way:"
   ]
  },
  {
   "cell_type": "markdown",
   "id": "7a581b4c",
   "metadata": {},
   "source": [
    "Firstly, for the velocity equation: $\\frac{dv}{dt} = \\underline{\\nabla} . \\tau$, we formulate it as follows:"
   ]
  },
  {
   "cell_type": "code",
   "execution_count": null,
   "id": "a2f54b62",
   "metadata": {},
   "outputs": [],
   "source": [
    "pde_v = v.dt - b * dv.div(τ)\n",
    "pde_v"
   ]
  },
  {
   "cell_type": "markdown",
   "id": "bb10e286",
   "metadata": {},
   "source": [
    "And for the stress equation: $\\frac{d \\tau}{dt} = \\lambda \\text{diag}(\\underline{\\nabla} . \\underline{v}) + \\mu (\\underline{\\nabla} \\underline{v} + (\\underline{\\nabla} \\underline{v})^T)$:"
   ]
  },
  {
   "cell_type": "code",
   "execution_count": null,
   "id": "0e4ff6c3",
   "metadata": {},
   "outputs": [],
   "source": [
    "pde_tau = τ.dt - λ * dv.diag(dv.div(v.forward)) - μ * (dv.grad(v.forward) + dv.grad(v.forward).T)\n",
    "# pde_tau  # uncomment to print (may go off of page)\n"
   ]
  },
  {
   "cell_type": "markdown",
   "id": "ca0f1b87",
   "metadata": {},
   "source": []
  },
  {
   "cell_type": "code",
   "execution_count": null,
   "id": "de52f539",
   "metadata": {},
   "outputs": [],
   "source": [
    "# Time update \n",
    "u_v = dv.Eq(v.forward, dv.solve(pde_v, v.forward))\n",
    "u_t = dv.Eq(τ.forward,  dv.solve(pde_tau, τ.forward))"
   ]
  },
  {
   "cell_type": "markdown",
   "id": "b35d42de",
   "metadata": {},
   "source": [
    "We will need to create a source to inject into this field. For this we will import a `RickerSource` from the examples. Note that this is a thin wrapper around `SparseTimeFunction` with a prefilled time series."
   ]
  },
  {
   "cell_type": "code",
   "execution_count": null,
   "id": "a58c267b",
   "metadata": {},
   "outputs": [],
   "source": [
    "from examples.seismic import TimeAxis, RickerSource\n",
    "\n",
    "t0, tn = 0., 400.\n",
    "dt = 0.2*min(grid.spacing)/vp  # Courant number is 0.2\n",
    "time_range = TimeAxis(start=t0, stop=tn, step=dt)\n",
    "\n",
    "src = RickerSource(name='src', grid=grid, f0=0.010, time_range=time_range)\n",
    "src.coordinates.data[:] = 250.\n",
    "\n",
    "# The source injection term\n",
    "src_xx = src.inject(field=τ.forward[0, 0], expr=dt*src)\n",
    "src_yy = src.inject(field=τ.forward[1, 1], expr=dt*src)\n",
    "src_zz = src.inject(field=τ.forward[2, 2], expr=dt*src)"
   ]
  },
  {
   "cell_type": "markdown",
   "id": "03459f09",
   "metadata": {},
   "source": [
    "Now we create a Devito `Operator`. Note the order of arguments supplied to the operator - this corresponds to the order of these updates within the time loop."
   ]
  },
  {
   "cell_type": "code",
   "execution_count": null,
   "id": "c53aee69",
   "metadata": {},
   "outputs": [],
   "source": [
    "op = dv.Operator([u_v, u_t] + src_xx + src_yy + src_zz)\n",
    "op(dt=dt)"
   ]
  },
  {
   "cell_type": "markdown",
   "id": "acd67419",
   "metadata": {},
   "source": [
    "With this, the wavefield can be rendered to show its 3D structure. We will choose the x normal stress field for this visualisation."
   ]
  },
  {
   "cell_type": "code",
   "execution_count": null,
   "id": "f56440b9",
   "metadata": {},
   "outputs": [],
   "source": [
    "# import numpy as np\n",
    "\n",
    "# try:\n",
    "#     import trame\n",
    "# except ModuleNotFoundError:\n",
    "#     ! pip install trame\n",
    "# try:\n",
    "#     import pyvista as pv\n",
    "# except ModuleNotFoundError:\n",
    "#     ! pip install pyvista\n",
    "#     import pyvista as pv\n",
    "\n",
    "# rendergrid = pv.UniformGrid()\n",
    "# rendergrid.dimensions = np.array(τ[0, 0].data[-1].shape) + 1\n",
    "# rendergrid.origin = (0., 0., 0.)\n",
    "# rendergrid.spacing = grid.spacing\n",
    "# rendergrid.cell_data[\"x normal stress\"] = τ[0, 0].data[-1].flatten(order=\"F\")\n",
    "\n",
    "# sargs = dict(\n",
    "#     title_font_size=10,\n",
    "#     label_font_size=10,\n",
    "#     n_labels=2,\n",
    "#     color='k',\n",
    "#     position_x=0.05,\n",
    "#     position_y=0.05,\n",
    "#     height=0.15,\n",
    "#     width=0.3\n",
    "    \n",
    "# )\n",
    "\n",
    "# vmax = np.amax(τ[0, 0].data[-1])\n",
    "# y_slices = rendergrid.slice_along_axis(n=5, axis=\"y\")\n",
    "# p = pv.Plotter(notebook=True, window_size=(600,400))\n",
    "# p.add_mesh(rendergrid.outline(), color=\"k\")\n",
    "# p.add_mesh(y_slices, cmap='seismic', opacity=0.8, clim=[-vmax, vmax], scalar_bar_args=sargs)\n",
    "# p.set_background('white')\n",
    "# p.show()\n",
    "# # NOTE: you may have to click on the white box below to make the visualisation appear"
   ]
  },
  {
   "cell_type": "markdown",
   "id": "57c9ae6d",
   "metadata": {},
   "source": [
    "In the Devito example notebooks you may have encountered various model and propagator objects used to streamline these notebooks. In practice, we want to make our own versions of these to suit the task at hand. We will outline below one potential strategy to do this for this particular problem.\n",
    "\n",
    "We will begin by creating an `ElasticModel` class to contain information on the grid and various fields. This model class will also contain a damping mask to implement sponge layers, and subdomaining for a free surface if required."
   ]
  },
  {
   "cell_type": "code",
   "execution_count": 1,
   "id": "3bbd0dc8",
   "metadata": {},
   "outputs": [
    {
     "name": "stderr",
     "output_type": "stream",
     "text": [
      "Operator `init_damp` ran in 0.01 s\n"
     ]
    }
   ],
   "source": [
    "import numpy as np\n",
    "import devito as dv\n",
    "import sympy as sp\n",
    "import matplotlib.pyplot as plt\n",
    "\n",
    "\n",
    "# The free surface will require its own subdomain if it is to be used.\n",
    "# A corresponding main domain will be required if this is the case.\n",
    "\n",
    "class FSDomain(dv.SubDomain):\n",
    "    name = 'fsdomain'\n",
    "    \n",
    "    def __init__(self, nbl):\n",
    "        super().__init__()\n",
    "        self._nbl = nbl\n",
    "        \n",
    "    def define(self, dimensions):\n",
    "        return {dimensions[-1]: ('left', self.nbl)}\n",
    "    \n",
    "    @property\n",
    "    def nbl(self):\n",
    "        \"\"\"Number of boundary layers\"\"\"\n",
    "        return self._nbl\n",
    "    \n",
    "    \n",
    "class MainDomain(dv.SubDomain):\n",
    "    name = 'maindomain'\n",
    "    \n",
    "    def __init__(self, nbl):\n",
    "        super().__init__()\n",
    "        self._nbl = nbl\n",
    "        \n",
    "    def define(self, dimensions):\n",
    "        return {dimensions[-1]: ('middle', self.nbl, 0)}\n",
    "    \n",
    "    @property\n",
    "    def nbl(self):\n",
    "        \"\"\"Number of boundary layers\"\"\"\n",
    "        return self._nbl\n",
    "    \n",
    "    \n",
    "class ElasticModel:\n",
    "    \"\"\"\n",
    "    This is a class containing parameters and utilities for\n",
    "    an isotrophic elastic wave model. \n",
    "    \n",
    "    Parameters\n",
    "    ----------\n",
    "    vp : ndarray\n",
    "        p-wave velocity array\n",
    "    vs : ndarray\n",
    "        s-wave velocity array\n",
    "    ρ : ndarray\n",
    "        Density\n",
    "    spacing : tuple\n",
    "        Grid spacing. Default is 10.\n",
    "    origin : tuple\n",
    "        Grid origin. Default is zeros.\n",
    "    nbl : int\n",
    "        Number of boundary layers. Default is 10.\n",
    "    free_surface : bool\n",
    "        Use a free-surface. Default is False.\n",
    "    space_order : int\n",
    "        The order of the spatial discretisation. Default is 2.\n",
    "    \n",
    "    Attributes\n",
    "    ----------\n",
    "    grid : Grid\n",
    "        Model grid\n",
    "    τ : TensorTimeFunction\n",
    "        Stress tensor\n",
    "    v : VectorTimeFunction\n",
    "        Particle velocity \n",
    "    vp : Function\n",
    "        p-wave velocity\n",
    "    vs : Function\n",
    "        s-wave velocity\n",
    "    ρ : Function\n",
    "        Density\n",
    "    damp : Function\n",
    "        Damping mask\n",
    "    \n",
    "    Methods\n",
    "    -------\n",
    "    dt(c)\n",
    "        Get the timestep corresponding with a particular\n",
    "        Courant number.\n",
    "    \"\"\"\n",
    "    def __init__(self, vp, vs, ρ, **kwargs):\n",
    "        # Sanity check for input arrays\n",
    "        # Note that the dimensionality and shape of the model\n",
    "        # will be inferred from these input arrays.\n",
    "        if vp.shape != vs.shape or vp.shape != ρ.shape:\n",
    "            raise ValueError(\"Arrays have mismatched shapes\")\n",
    "            \n",
    "        # Grab information on boundary conditions for grid size\n",
    "        # and subdomain setup.\n",
    "        self._nbl = kwargs.get(\"nbl\", 10)\n",
    "        self._free_surface = kwargs.get(\"free_surface\", False)\n",
    "\n",
    "        # Set up subdomains if required by free surface\n",
    "        if self.free_surface:\n",
    "            fs_domain = FSDomain(self.nbl)\n",
    "            main_domain = MainDomain(self.nbl)\n",
    "            subdomains = [fs_domain, main_domain]\n",
    "        else:\n",
    "            subdomains = []\n",
    "            \n",
    "        # Get various grid parameters\n",
    "        spacing = kwargs.get(\"spacing\", 10.)\n",
    "        origin = kwargs.get(\"origin\", tuple([0.]*len(vp.shape)))\n",
    "        \n",
    "        grid_origin = tuple([ori - spacing*self.nbl for ori in origin])\n",
    "        \n",
    "        shape = tuple([2*self.nbl + s for s in vp.shape])\n",
    "        extent = tuple([spacing*sha for sha in shape])\n",
    "        # Set up the grid\n",
    "        self._grid = dv.Grid(shape=shape, extent=extent,\n",
    "                             origin=grid_origin,\n",
    "                             subdomains=subdomains)\n",
    "        \n",
    "        self._space_order = kwargs.get(\"space_order\", 2)\n",
    "        \n",
    "        # Set up the function symbols and fill their data attributes\n",
    "        # where reqiured\n",
    "        self._initialise_functions()\n",
    "        self._fill_parameters(vp, vs, ρ)\n",
    "        \n",
    "        # Set up the damping field\n",
    "        self._initialise_damping()\n",
    "        \n",
    "    def _initialise_functions(self):\n",
    "        \"\"\"Set up functions found in the equations\"\"\"\n",
    "        self._τ = dv.TensorTimeFunction(name='tau', grid=self.grid,\n",
    "                                        space_order=self.space_order,\n",
    "                                        time_order=1)\n",
    "        \n",
    "        self._v = dv.VectorTimeFunction(name='v', grid=self.grid,\n",
    "                                        space_order=self.space_order,\n",
    "                                        time_order=1)\n",
    "        \n",
    "        self._vp = dv.Function(name='vp', grid=self.grid,\n",
    "                               space_order=self.space_order)\n",
    "        \n",
    "        self._vs = dv.Function(name='vs', grid=self.grid,\n",
    "                               space_order=self.space_order)\n",
    "\n",
    "        self._ρ = dv.Function(name='rho', grid=self.grid,\n",
    "                              space_order=self.space_order)\n",
    "        \n",
    "    def _fill_parameters(self, vp, vs, rho):\n",
    "        \"\"\"Fill the data of vp, vs, and rho from the supplied arrays\"\"\"\n",
    "        # Need to pad the models out into the sponge region\n",
    "        self.vp.data[:] = np.pad(vp, self.nbl, mode='edge')\n",
    "        self.vs.data[:] = np.pad(vs, self.nbl, mode='edge')\n",
    "        self.ρ.data[:] = np.pad(rho, self.nbl, mode='edge')\n",
    "        \n",
    "    def _initialise_damping(self):\n",
    "        \"\"\"\n",
    "        Set up the damping mask. Note that this will be a simple sponge\n",
    "        mask with linear tapers for this case.\n",
    "        \"\"\"\n",
    "        self._damp = dv.Function(name='damp', grid=self.grid,\n",
    "                                 space_order=self.space_order)\n",
    "        self.damp.data[:] = 1.\n",
    "        \n",
    "        # This section creates a set of equations which each scale an\n",
    "        # edge of the damping mask by a linear taper. Note that each\n",
    "        # pair of equations within the loop correspond to the left and\n",
    "        # right tapers.\n",
    "        eqs = []\n",
    "        for dim, shape in zip(self.grid.dimensions, self.grid.shape):\n",
    "            eqs.append(dv.Eq(self.damp,\n",
    "                             self.damp*(0.999 + 0.001*(dv.Min(shape-dim, self.nbl)/self.nbl))))\n",
    "            if dim != self.grid.dimensions[-1] or not self.free_surface:\n",
    "                eqs.append(dv.Eq(self.damp,\n",
    "                                 self.damp*(0.999 + 0.001*(dv.Min(dim, self.nbl)/self.nbl))))\n",
    "            \n",
    "        op_damp = dv.Operator(eqs, name='init_damp')\n",
    "        op_damp.apply()\n",
    "        \n",
    "    def dt(self, c):\n",
    "        \"\"\"\n",
    "        Return the timestep corresponding with some particular\n",
    "        Courant number.\n",
    "        \"\"\"\n",
    "        return float(c*np.amin(self.grid.spacing)/np.amax(self.vp.data))\n",
    "        \n",
    "\n",
    "    @property\n",
    "    def nbl(self):\n",
    "        \"\"\"Number of boundary layers\"\"\"\n",
    "        return self._nbl\n",
    "    \n",
    "    @property\n",
    "    def free_surface(self):\n",
    "        \"\"\"Use a free surface\"\"\"\n",
    "        return self._free_surface\n",
    "    \n",
    "    @property\n",
    "    def grid(self):\n",
    "        \"\"\"Finite difference grid \"\"\"\n",
    "        return self._grid \n",
    "    \n",
    "    @property\n",
    "    def space_order(self):\n",
    "        \"\"\"Order of the spatial discretisation\"\"\"\n",
    "        return self._space_order\n",
    "    \n",
    "    @property\n",
    "    def τ(self):\n",
    "        \"\"\"Stress tensor\"\"\"\n",
    "        return self._τ\n",
    "    \n",
    "    @property\n",
    "    def v(self):\n",
    "        \"\"\"Particle velocity\"\"\"\n",
    "        return self._v\n",
    "\n",
    "    @property\n",
    "    def vp(self):\n",
    "        \"\"\"P-wave velocity\"\"\"\n",
    "        return self._vp\n",
    "\n",
    "    @property\n",
    "    def vs(self):\n",
    "        \"\"\"S-wave velocity\"\"\"\n",
    "        return self._vs\n",
    "    \n",
    "    @property\n",
    "    def ρ(self):\n",
    "        \"\"\"Density\"\"\"\n",
    "        return self._ρ\n",
    "    \n",
    "    @property\n",
    "    def damp(self):\n",
    "        \"\"\"Damping mask\"\"\"\n",
    "        return self._damp\n",
    "    \n",
    "    \n",
    "model = ElasticModel(2500. + 100*np.random.rand(26, 26, 26),\n",
    "                     1500. + 50*np.random.rand(26, 26, 26),\n",
    "                     2000. + 100*np.random.rand(26, 26, 26))"
   ]
  },
  {
   "cell_type": "markdown",
   "id": "ddd31e93",
   "metadata": {},
   "source": [
    "The second class we will need to create will be some `ElasticPropagator` which encapsulates the equations, operator, and any auxilliary functionality such as snapshotting etc."
   ]
  },
  {
   "cell_type": "code",
   "execution_count": 2,
   "id": "62bdd950",
   "metadata": {
    "scrolled": false
   },
   "outputs": [
    {
     "name": "stderr",
     "output_type": "stream",
     "text": [
      "/home/ed/anaconda3/envs/devito/lib/python3.8/site-packages/numpy/core/getlimits.py:500: UserWarning: The value of the smallest subnormal for <class 'numpy.float64'> type is zero.\n",
      "  setattr(self, word, getattr(machar, word).flat[0])\n",
      "/home/ed/anaconda3/envs/devito/lib/python3.8/site-packages/numpy/core/getlimits.py:89: UserWarning: The value of the smallest subnormal for <class 'numpy.float64'> type is zero.\n",
      "  return self._float_to_str(self.smallest_subnormal)\n",
      "/home/ed/anaconda3/envs/devito/lib/python3.8/site-packages/numpy/core/getlimits.py:500: UserWarning: The value of the smallest subnormal for <class 'numpy.float32'> type is zero.\n",
      "  setattr(self, word, getattr(machar, word).flat[0])\n",
      "/home/ed/anaconda3/envs/devito/lib/python3.8/site-packages/numpy/core/getlimits.py:89: UserWarning: The value of the smallest subnormal for <class 'numpy.float32'> type is zero.\n",
      "  return self._float_to_str(self.smallest_subnormal)\n",
      "Operator `Kernel` ran in 314.83 s\n"
     ]
    }
   ],
   "source": [
    "class ElasticPropagator:\n",
    "    \"\"\"\n",
    "    An isotropic elastic wave propagator\n",
    "    \n",
    "    Parameters\n",
    "    ----------\n",
    "    model : ElasticModel\n",
    "        The model through which to propagate\n",
    "    src : SparseTimeFunction\n",
    "        The sources. Default is None.\n",
    "    rec : SparseTimeFunction\n",
    "        The receivers. Default is None.\n",
    "        \n",
    "    Methods\n",
    "    -------\n",
    "    apply(*args, **kwargs)\n",
    "        Alias for self.operator.apply()\n",
    "    \"\"\"\n",
    "    def __init__(self, model, **kwargs):\n",
    "        self._model = model\n",
    "        self._src = kwargs.get('src')\n",
    "        self._rec = kwargs.get('rec')\n",
    "        \n",
    "        self._setup_equations()\n",
    "        self._sources = []\n",
    "        if self.src is not None:\n",
    "            self._setup_sources()\n",
    "            \n",
    "        self._receivers = []\n",
    "        if self.rec is not None:\n",
    "            self._setup_receivers()\n",
    "\n",
    "        self._operator = dv.Operator(self._equations\n",
    "                                     + self._sources\n",
    "                                     + self._receivers)\n",
    "        \n",
    "    def _setup_equations(self):\n",
    "        \"\"\"Set up the update equations\"\"\"\n",
    "        vp = self.model.vp\n",
    "        vs = self.model.vs\n",
    "        ρ = self.model.ρ\n",
    "        τ = self.model.τ\n",
    "        v = self.model.v\n",
    "        damp = self.model.damp\n",
    "\n",
    "        b = 1/ρ\n",
    "        μ = vs**2/ρ\n",
    "        λ = (vp**2/ρ) - 2*μ\n",
    "        \n",
    "        pde_v = v.dt - b * dv.div(τ)\n",
    "        pde_tau = τ.dt - λ * dv.diag(dv.div(v.forward)) \\\n",
    "            - μ * (dv.grad(v.forward) + dv.grad(v.forward).T)\n",
    "        \n",
    "        # Time update \n",
    "        u_v = dv.Eq(v.forward, damp*dv.solve(pde_v, v.forward))\n",
    "        u_t = dv.Eq(τ.forward,  damp*dv.solve(pde_tau, τ.forward))\n",
    "        \n",
    "        self._equations = [u_v, u_t]\n",
    "        \n",
    "    def _setup_sources(self):\n",
    "        \"\"\"Set up the source terms\"\"\"\n",
    "        τ = self.model.τ\n",
    "        dt = model.dt(0.5)\n",
    "        for i in range(len(self.model.grid.dimensions)):\n",
    "            self._sources.append(self.src.inject(field=τ[i, i].forward,\n",
    "                                                 expr=dt*self.src))\n",
    "            \n",
    "    def _setup_receivers(self):\n",
    "        \"\"\"Set up the receiver terms\"\"\"\n",
    "        v = self.model.v\n",
    "        dt = model.dt(0.5)\n",
    "        for i in range(len(self.model.grid.dimensions)):\n",
    "            self._receivers.append(self.rec.interpolate(field=v[i].forward))\n",
    "            \n",
    "    def apply(self, *args, **kwargs):\n",
    "        \"\"\"Apply the operator\"\"\"\n",
    "        self.operator.apply(*args, **kwargs)\n",
    "        \n",
    "    @property\n",
    "    def model(self):\n",
    "        \"\"\"The model through which waves are propagated\"\"\"\n",
    "        return self._model\n",
    "    \n",
    "    @property\n",
    "    def src(self):\n",
    "        \"\"\"The source object\"\"\"\n",
    "        return self._src\n",
    "    \n",
    "    @property\n",
    "    def rec(self):\n",
    "        \"\"\"The receiver object\"\"\"\n",
    "        return self._rec\n",
    "    \n",
    "    @property\n",
    "    def operator(self):\n",
    "        \"\"\"The FD operator\"\"\"\n",
    "        return self._operator\n",
    "    \n",
    "    \n",
    "    \n",
    "from examples.seismic import TimeAxis, RickerSource\n",
    "\n",
    "t0, tn = 0., 250.\n",
    "time_range = TimeAxis(start=t0, stop=tn, step=model.dt(0.5))\n",
    "\n",
    "src = RickerSource(name='src', grid=model.grid, f0=0.010, time_range=time_range)\n",
    "src.coordinates.data[:] = 125.\n",
    "\n",
    "propagator = ElasticPropagator(model, src=src)\n",
    "propagator.apply(dt=model.dt(0.5))"
   ]
  },
  {
   "cell_type": "code",
   "execution_count": 3,
   "id": "cb9eb784",
   "metadata": {},
   "outputs": [
    {
     "data": {
      "image/png": "[encoded data removed]",
      "text/plain": [
       "<Figure size 800x600 with 2 Axes>"
      ]
     },
     "metadata": {},
     "output_type": "display_data"
    }
   ],
   "source": [
    "vmax = np.amax(np.absolute(model.τ[0, 0].data[-1, :, 15]))\n",
    "plt.imshow(model.τ[0, 0].data[-1, :, 15].T, vmin=-vmax, vmax=vmax)\n",
    "plt.colorbar()\n",
    "plt.show()"
   ]
  },
  {
   "cell_type": "markdown",
   "id": "bdac7f20",
   "metadata": {},
   "source": [
    "## Exercise: finish adding the free-surface treatment to the propagator class above\n",
    "\n",
    "Hint: see [03_subdomains](https://github.com/devitocodes/devito/blob/master/examples/userapi/03_subdomains.ipynb) and [04_boundary_conditions](https://github.com/devitocodes/devito/blob/master/examples/userapi/04_boundary_conditions.ipynb) for examples on how to do this."
   ]
  },
  {
   "cell_type": "code",
   "execution_count": null,
   "id": "dc2eca4b",
   "metadata": {},
   "outputs": [],
   "source": []
  }
 ],
 "metadata": {
  "kernelspec": {
   "display_name": "Python 3 (ipykernel)",
   "language": "python",
   "name": "python3"
  },
  "language_info": {
   "codemirror_mode": {
    "name": "ipython",
    "version": 3
   },
   "file_extension": ".py",
   "mimetype": "text/x-python",
   "name": "python",
   "nbconvert_exporter": "python",
   "pygments_lexer": "ipython3",
   "version": "3.8.5"
  }
 },
 "nbformat": 4,
 "nbformat_minor": 5
}
