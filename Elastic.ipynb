{
 "cells": [
  {
   "cell_type": "markdown",
   "id": "79986697",
   "metadata": {},
   "source": [
    "# Isotropic elastic wave equation implementation on a staggered grid\n",
    "\n",
    "Some preamble here"
   ]
  },
  {
   "cell_type": "code",
   "execution_count": 52,
   "id": "495d5cc0",
   "metadata": {},
   "outputs": [],
   "source": [
    "import devito as dv"
   ]
  },
  {
   "cell_type": "code",
   "execution_count": 2,
   "id": "5589e8d2",
   "metadata": {},
   "outputs": [],
   "source": [
    "# Create a 3D grid\n",
    "shape = (51, 51, 51)\n",
    "extent = (500., 500., 500.)  # this is km\n",
    "\n",
    "grid = dv.Grid(shape=shape, extent=extent)"
   ]
  },
  {
   "cell_type": "markdown",
   "id": "6157b113",
   "metadata": {},
   "source": [
    "# Vectorial form\n",
    "\n",
    "One of the advantages of Devito is the high level symbolic API. This allows for straight forward generalisation of expressions between 2D and 3D. \n",
    "\n",
    "\n",
    "Leveraging the symbolic algebra capabilities of Devito enables concise, flexible specifications of equations. In this case, it's desirable to represent the isotropic elastic system of equations in the following form:\n",
    "\n",
    "\n",
    "\\begin{cases}\n",
    "&\\frac{dv}{dt} = \\underline{\\nabla} . \\tau \\\\\n",
    "&\\frac{d \\tau}{dt} = \\lambda \\text{diag}(\\underline{\\nabla} . \\underline{v}) + \\mu (\\underline{\\nabla} \\underline{v} + (\\underline{\\nabla} \\underline{v})^T)\n",
    "\\end{cases}\n",
    "\n",
    "\n",
    "where in 3D, $\\underline{v}$ is a vector valued function:\n",
    "\n",
    "$\\underline{v}(t, x, y, z) = (v_x(t, x, y, z), v_y(t, x, y, z), v_z(t, x, y, z))$\n",
    "\n",
    "and the stress $\\tau$ is a symmetric tensor valued function:\n",
    "\n",
    "\n",
    "$\\tau(t, x, y, z) = \\begin{bmatrix}\\tau_{xx}(t, x, y, z) & \\tau_{xy}(t, x, y, z)  & \\tau_{xz}(t, x, y, z) \\\\\\tau_{yx}(t, x, y, z) & \\tau_{yy}(t, x, y, z) & \\tau_{yz}(t, x, y, z)  \\\\\\tau_{zx}(t, x, y, z) & \\tau_{zy}(t, x, y, z) & \\tau_{zz}(t, x, y, z)\\end{bmatrix}$\n",
    "\n",
    "\n",
    "We show in the following how to setup the elastic wave-equation form Devito's high-level tensorial types."
   ]
  },
  {
   "cell_type": "markdown",
   "id": "5ad6bec0",
   "metadata": {},
   "source": [
    "As $\\underline{v}$ is a vector which varies in time, we represent it as a `VectorTimeFunction`."
   ]
  },
  {
   "cell_type": "code",
   "execution_count": 3,
   "id": "ea3d543e",
   "metadata": {},
   "outputs": [
    {
     "data": {
      "text/latex": [
       "$\\displaystyle \\left[\\begin{matrix}v_{x}{\\left(t,x + \\frac{h_{x}}{2},y,z \\right)}\\\\v_{y}{\\left(t,x,y + \\frac{h_{y}}{2},z \\right)}\\\\v_{z}{\\left(t,x,y,z + \\frac{h_{z}}{2} \\right)}\\end{matrix}\\right]$"
      ],
      "text/plain": [
       "Vector(v_x(t, x + h_x/2, y, z), v_y(t, x, y + h_y/2, z), v_z(t, x, y, z + h_z/2))"
      ]
     },
     "execution_count": 3,
     "metadata": {},
     "output_type": "execute_result"
    }
   ],
   "source": [
    "so = 4\n",
    "to = 1\n",
    "\n",
    "v = dv.VectorTimeFunction(name='v', grid=grid, space_order=so, time_order=to)\n",
    "v"
   ]
  },
  {
   "cell_type": "markdown",
   "id": "06eef0f2",
   "metadata": {},
   "source": [
    "We can see that staggering is applied by default.\n",
    "\n",
    "There is also a `TensorTimeFunction` to store $\\tau$:"
   ]
  },
  {
   "cell_type": "code",
   "execution_count": 4,
   "id": "32cbbc9e",
   "metadata": {},
   "outputs": [
    {
     "data": {
      "text/latex": [
       "$\\displaystyle \\left[\\begin{matrix}\\tau_{xx}{\\left(t,x,y,z \\right)} & \\tau_{xy}{\\left(t,x + \\frac{h_{x}}{2},y + \\frac{h_{y}}{2},z \\right)} & \\tau_{xz}{\\left(t,x + \\frac{h_{x}}{2},y,z + \\frac{h_{z}}{2} \\right)}\\\\\\tau_{xy}{\\left(t,x + \\frac{h_{x}}{2},y + \\frac{h_{y}}{2},z \\right)} & \\tau_{yy}{\\left(t,x,y,z \\right)} & \\tau_{yz}{\\left(t,x,y + \\frac{h_{y}}{2},z + \\frac{h_{z}}{2} \\right)}\\\\\\tau_{xz}{\\left(t,x + \\frac{h_{x}}{2},y,z + \\frac{h_{z}}{2} \\right)} & \\tau_{yz}{\\left(t,x,y + \\frac{h_{y}}{2},z + \\frac{h_{z}}{2} \\right)} & \\tau_{zz}{\\left(t,x,y,z \\right)}\\end{matrix}\\right]$"
      ],
      "text/plain": [
       "Matrix([\n",
       "[                tau_xx(t, x, y, z), tau_xy(t, x + h_x/2, y + h_y/2, z), tau_xz(t, x + h_x/2, y, z + h_z/2)],\n",
       "[tau_xy(t, x + h_x/2, y + h_y/2, z),                 tau_yy(t, x, y, z), tau_yz(t, x, y + h_y/2, z + h_z/2)],\n",
       "[tau_xz(t, x + h_x/2, y, z + h_z/2), tau_yz(t, x, y + h_y/2, z + h_z/2),                 tau_zz(t, x, y, z)]])"
      ]
     },
     "execution_count": 4,
     "metadata": {},
     "output_type": "execute_result"
    }
   ],
   "source": [
    "τ = dv.TensorTimeFunction(name='tau', grid=grid, space_order=so, time_order=to)\n",
    "τ"
   ]
  },
  {
   "cell_type": "markdown",
   "id": "3abdbed2",
   "metadata": {},
   "source": [
    "Note that staggering is also applied here by default. Furthermore, this tensor is symmetrical:"
   ]
  },
  {
   "cell_type": "code",
   "execution_count": 5,
   "id": "4cfcf9dd",
   "metadata": {},
   "outputs": [
    {
     "data": {
      "text/plain": [
       "True"
      ]
     },
     "execution_count": 5,
     "metadata": {},
     "output_type": "execute_result"
    }
   ],
   "source": [
    "τ[0, 1] is τ[1, 0]"
   ]
  },
  {
   "cell_type": "markdown",
   "id": "96cabd8a",
   "metadata": {},
   "source": [
    "Let's define our parameters. Whilst these will be constant for now, it is trivial to make them vary in space (as will be shown later). "
   ]
  },
  {
   "cell_type": "code",
   "execution_count": 6,
   "id": "6b8bb46a",
   "metadata": {},
   "outputs": [],
   "source": [
    "vs = 1500.  # s-wave velocity in km/s\n",
    "vp = 2500.  # p-wave velocity in km/s\n",
    "ρ = 3000.  # density in tons/m^3\n",
    "\n",
    "b = 1/ρ\n",
    "μ = vs**2/ρ\n",
    "λ = (vp**2/ρ) - 2*μ"
   ]
  },
  {
   "cell_type": "markdown",
   "id": "3048bfcb",
   "metadata": {},
   "source": [
    "With this, we can write our equations in the following way:"
   ]
  },
  {
   "cell_type": "markdown",
   "id": "7a581b4c",
   "metadata": {},
   "source": [
    "Firstly, for the velocity equation: $\\frac{dv}{dt} = \\underline{\\nabla} . \\tau$, we formulate it as follows:"
   ]
  },
  {
   "cell_type": "code",
   "execution_count": 7,
   "id": "a2f54b62",
   "metadata": {},
   "outputs": [
    {
     "data": {
      "text/latex": [
       "$\\displaystyle \\left[\\begin{matrix}- 0.000333333333333333 \\frac{\\partial}{\\partial x} \\tau_{xx}{\\left(t,x,y,z \\right)} - 0.000333333333333333 \\frac{\\partial}{\\partial y} \\tau_{xy}{\\left(t,x + \\frac{h_{x}}{2},y + \\frac{h_{y}}{2},z \\right)} - 0.000333333333333333 \\frac{\\partial}{\\partial z} \\tau_{xz}{\\left(t,x + \\frac{h_{x}}{2},y,z + \\frac{h_{z}}{2} \\right)} + \\frac{\\partial}{\\partial t} v_{x}{\\left(t,x + \\frac{h_{x}}{2},y,z \\right)}\\\\- 0.000333333333333333 \\frac{\\partial}{\\partial x} \\tau_{xy}{\\left(t,x + \\frac{h_{x}}{2},y + \\frac{h_{y}}{2},z \\right)} - 0.000333333333333333 \\frac{\\partial}{\\partial y} \\tau_{yy}{\\left(t,x,y,z \\right)} - 0.000333333333333333 \\frac{\\partial}{\\partial z} \\tau_{yz}{\\left(t,x,y + \\frac{h_{y}}{2},z + \\frac{h_{z}}{2} \\right)} + \\frac{\\partial}{\\partial t} v_{y}{\\left(t,x,y + \\frac{h_{y}}{2},z \\right)}\\\\- 0.000333333333333333 \\frac{\\partial}{\\partial x} \\tau_{xz}{\\left(t,x + \\frac{h_{x}}{2},y,z + \\frac{h_{z}}{2} \\right)} - 0.000333333333333333 \\frac{\\partial}{\\partial y} \\tau_{yz}{\\left(t,x,y + \\frac{h_{y}}{2},z + \\frac{h_{z}}{2} \\right)} - 0.000333333333333333 \\frac{\\partial}{\\partial z} \\tau_{zz}{\\left(t,x,y,z \\right)} + \\frac{\\partial}{\\partial t} v_{z}{\\left(t,x,y,z + \\frac{h_{z}}{2} \\right)}\\end{matrix}\\right]$"
      ],
      "text/plain": [
       "Vector(-0.000333333333333333*Derivative(tau_xx(t, x, y, z), x) - 0.000333333333333333*Derivative(tau_xy(t, x + h_x/2, y + h_y/2, z), y) - 0.000333333333333333*Derivative(tau_xz(t, x + h_x/2, y, z + h_z/2), z) + Derivative(v_x(t, x + h_x/2, y, z), t), -0.000333333333333333*Derivative(tau_xy(t, x + h_x/2, y + h_y/2, z), x) - 0.000333333333333333*Derivative(tau_yy(t, x, y, z), y) - 0.000333333333333333*Derivative(tau_yz(t, x, y + h_y/2, z + h_z/2), z) + Derivative(v_y(t, x, y + h_y/2, z), t), -0.000333333333333333*Derivative(tau_xz(t, x + h_x/2, y, z + h_z/2), x) - 0.000333333333333333*Derivative(tau_yz(t, x, y + h_y/2, z + h_z/2), y) - 0.000333333333333333*Derivative(tau_zz(t, x, y, z), z) + Derivative(v_z(t, x, y, z + h_z/2), t))"
      ]
     },
     "execution_count": 7,
     "metadata": {},
     "output_type": "execute_result"
    }
   ],
   "source": [
    "pde_v = v.dt - b * dv.div(τ)\n",
    "pde_v"
   ]
  },
  {
   "cell_type": "markdown",
   "id": "bb10e286",
   "metadata": {},
   "source": [
    "And for the stress equation: $\\frac{d \\tau}{dt} = \\lambda \\text{diag}(\\underline{\\nabla} . \\underline{v}) + \\mu (\\underline{\\nabla} \\underline{v} + (\\underline{\\nabla} \\underline{v})^T)$:"
   ]
  },
  {
   "cell_type": "code",
   "execution_count": 8,
   "id": "0e4ff6c3",
   "metadata": {},
   "outputs": [],
   "source": [
    "pde_tau = τ.dt - λ * dv.diag(dv.div(v.forward)) - μ * (dv.grad(v.forward) + dv.grad(v.forward).T)\n",
    "# pde_tau  # uncomment to print (may go off of page)\n"
   ]
  },
  {
   "cell_type": "markdown",
   "id": "ca0f1b87",
   "metadata": {},
   "source": []
  },
  {
   "cell_type": "code",
   "execution_count": 9,
   "id": "de52f539",
   "metadata": {},
   "outputs": [],
   "source": [
    "# Time update \n",
    "u_v = dv.Eq(v.forward, dv.solve(pde_v, v.forward))\n",
    "u_t = dv.Eq(τ.forward,  dv.solve(pde_tau, τ.forward))"
   ]
  },
  {
   "cell_type": "markdown",
   "id": "b35d42de",
   "metadata": {},
   "source": [
    "We will need to create a source to inject into this field. For this we will import a `RickerSource` from the examples. Note that this is a thin wrapper around `SparseTimeFunction` with a prefilled time series."
   ]
  },
  {
   "cell_type": "code",
   "execution_count": 10,
   "id": "a58c267b",
   "metadata": {},
   "outputs": [],
   "source": [
    "from examples.seismic import TimeAxis, RickerSource\n",
    "\n",
    "t0, tn = 0., 400.\n",
    "dt = 0.2*min(grid.spacing)/vs  # Courant number is 0.5\n",
    "time_range = TimeAxis(start=t0, stop=tn, step=dt)\n",
    "\n",
    "src = RickerSource(name='src', grid=grid, f0=0.010, time_range=time_range)\n",
    "src.coordinates.data[:] = 250.\n",
    "\n",
    "# The source injection term\n",
    "src_xx = src.inject(field=τ.forward[0, 0], expr=dt*src)\n",
    "src_yy = src.inject(field=τ.forward[1, 1], expr=dt*src)\n",
    "src_zz = src.inject(field=τ.forward[2, 2], expr=dt*src)"
   ]
  },
  {
   "cell_type": "markdown",
   "id": "03459f09",
   "metadata": {},
   "source": [
    "Now we create a Devito `Operator`. Note the order of arguments supplied to the operator - this corresponds to the order of these updates within the time loop."
   ]
  },
  {
   "cell_type": "code",
   "execution_count": 11,
   "id": "c53aee69",
   "metadata": {},
   "outputs": [
    {
     "name": "stderr",
     "output_type": "stream",
     "text": [
      "Operator `Kernel` ran in 1039.40 s\n"
     ]
    },
    {
     "data": {
      "text/plain": [
       "PerformanceSummary([(PerfKey(name='section0', rank=None),\n",
       "                     PerfEntry(time=1039.346823998043, gflopss=0.0, gpointss=0.0, oi=0.0, ops=0, itershapes=[])),\n",
       "                    (PerfKey(name='section1', rank=None),\n",
       "                     PerfEntry(time=0.032674000000010577, gflopss=0.0, gpointss=0.0, oi=0.0, ops=0, itershapes=[]))])"
      ]
     },
     "execution_count": 11,
     "metadata": {},
     "output_type": "execute_result"
    }
   ],
   "source": [
    "op = dv.Operator([u_v, u_t] + src_xx + src_yy + src_zz)\n",
    "op(dt=dt)"
   ]
  },
  {
   "cell_type": "markdown",
   "id": "acd67419",
   "metadata": {},
   "source": [
    "With this, the wavefield can be rendered to show its 3D structure. We will choose the x normal stress field for this visualisation."
   ]
  },
  {
   "cell_type": "code",
   "execution_count": 82,
   "id": "f56440b9",
   "metadata": {},
   "outputs": [
    {
     "data": {
      "application/vnd.jupyter.widget-view+json": {
       "model_id": "b23457f836374f07acb95d78aa53a936",
       "version_major": 2,
       "version_minor": 0
      },
      "text/plain": [
       "Widget(value=\"<iframe src='http://localhost:55870/index.html?ui=P_0x7fa0adbf51c0_59&reconnect=auto' style='wid…"
      ]
     },
     "metadata": {},
     "output_type": "display_data"
    }
   ],
   "source": [
    "import numpy as np\n",
    "\n",
    "try:\n",
    "    import trame\n",
    "except ModuleNotFoundError:\n",
    "    ! pip install trame\n",
    "try:\n",
    "    import pyvista as pv\n",
    "except ModuleNotFoundError:\n",
    "    ! pip install pyvista\n",
    "    import pyvista as pv\n",
    "\n",
    "rendergrid = pv.UniformGrid()\n",
    "rendergrid.dimensions = np.array(τ[0, 0].data[-1].shape) + 1\n",
    "rendergrid.origin = (0., 0., 0.)\n",
    "rendergrid.spacing = grid.spacing\n",
    "rendergrid.cell_data[\"x normal stress\"] = τ[0, 0].data[-1].flatten(order=\"F\")\n",
    "\n",
    "sargs = dict(\n",
    "    title_font_size=10,\n",
    "    label_font_size=10,\n",
    "    n_labels=2,\n",
    "    color='k',\n",
    "    position_x=0.05,\n",
    "    position_y=0.05,\n",
    "    height=0.15,\n",
    "    width=0.3\n",
    "    \n",
    ")\n",
    "\n",
    "vmax = np.amax(τ[0, 0].data[-1])\n",
    "y_slices = rendergrid.slice_along_axis(n=5, axis=\"y\")\n",
    "p = pv.Plotter(notebook=True, window_size=(600,400))\n",
    "p.add_mesh(rendergrid.outline(), color=\"k\")\n",
    "p.add_mesh(y_slices, cmap='seismic', opacity=0.8, clim=[-vmax, vmax], scalar_bar_args=sargs)\n",
    "p.set_background('white')\n",
    "p.show()\n",
    "# NOTE: you may have to click on the white box below to make the visualisation appear"
   ]
  },
  {
   "cell_type": "code",
   "execution_count": null,
   "id": "27ed3396",
   "metadata": {},
   "outputs": [],
   "source": []
  }
 ],
 "metadata": {
  "kernelspec": {
   "display_name": "Python 3 (ipykernel)",
   "language": "python",
   "name": "python3"
  },
  "language_info": {
   "codemirror_mode": {
    "name": "ipython",
    "version": 3
   },
   "file_extension": ".py",
   "mimetype": "text/x-python",
   "name": "python",
   "nbconvert_exporter": "python",
   "pygments_lexer": "ipython3",
   "version": "3.9.0"
  }
 },
 "nbformat": 4,
 "nbformat_minor": 5
}
